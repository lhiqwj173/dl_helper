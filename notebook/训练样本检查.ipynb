{
 "cells": [
  {
   "cell_type": "code",
   "execution_count": 1,
   "metadata": {},
   "outputs": [],
   "source": [
    "import os\n",
    "import numpy as np\n",
    "from dl_helper.rl.custom_imitation_module.dataset import LobTrajectoryDataset"
   ]
  },
  {
   "cell_type": "code",
   "execution_count": null,
   "metadata": {},
   "outputs": [
    {
     "name": "stdout",
     "output_type": "stream",
     "text": [
      "样本类别数量: [221285, 228007]\n"
     ]
    }
   ],
   "source": [
    "base_data_folder = r'D:\\L2_DATA_T0_ETF\\train_data\\RAW\\BC_train_data_20250817_deeplob'\n",
    "data_dict_folder = os.path.join(base_data_folder, 'data_dict')\n",
    "train_split_rng = np.random.default_rng(seed=0)\n",
    "\n",
    "# 简单的数据结构\n",
    "his_len = 50\n",
    "base_features = [item for i in range(1) for item in [f'BASE卖{i+1}价', f'BASE卖{i+1}量', f'BASE买{i+1}价', f'BASE买{i+1}量']]\n",
    "ext_features = [\n",
    "    \"距离收盘秒数\",\n",
    "    \"EXT_micro_price\",\n",
    "    \"EXT_volatility_5\",\n",
    "    \"EXT_pressure_imbalance\",\n",
    "    'EXT_volatility_wap_5',\n",
    "    'EXT_relative_spread_l1',\n",
    "    'EXT_weighted_mid_price_v2',\n",
    "    'EXT_depth_imbalance',\n",
    "    'EXT_ofi',\n",
    "]\n",
    "data_config = {\n",
    "    'his_len': his_len,# 每个样本的 历史数据长度\n",
    "    'need_cols':  base_features + ext_features,\n",
    "}\n",
    "\n",
    "dataset = LobTrajectoryDataset(\n",
    "    data_folder = data_dict_folder, \n",
    "    data_config = data_config, \n",
    "    base_data_folder=os.path.join(base_data_folder, 'train_data'),\n",
    "    split_rng=train_split_rng,\n",
    "    data_type='val',\n",
    "    std=False,\n",
    ")"
   ]
  },
  {
   "cell_type": "code",
   "execution_count": null,
   "metadata": {},
   "outputs": [],
   "source": [
    "i = 0\n",
    "x1s = []\n",
    "x2s = []\n",
    "ys = []\n",
    "std_datas = []\n",
    "while True:\n",
    "    x, y ,std_data = dataset[i]\n",
    "    # 样本所属日期\n",
    "    sample_date = x[-1]\n",
    "    # 真实的x \n",
    "    x1 = x[:-4].reshape(his_len, len(base_features) + len(ext_features))    # 时序数据 his_len 步\n",
    "    x2 = x[-4:]     # 静态数据 symbol_id/距离收盘秒数/是否持仓/日期id（训练时不使用）\n",
    "    break"
   ]
  },
  {
   "cell_type": "code",
   "execution_count": null,
   "metadata": {},
   "outputs": [
    {
     "data": {
      "text/plain": [
       "np.float32(12982.0)"
      ]
     },
     "execution_count": 11,
     "metadata": {},
     "output_type": "execute_result"
    }
   ],
   "source": [
    "# 样本所属日期\n",
    "sample_date = x[-1]\n",
    "sample_date"
   ]
  },
  {
   "cell_type": "code",
   "execution_count": null,
   "metadata": {},
   "outputs": [],
   "source": []
  },
  {
   "cell_type": "code",
   "execution_count": null,
   "metadata": {},
   "outputs": [],
   "source": []
  },
  {
   "cell_type": "code",
   "execution_count": null,
   "metadata": {},
   "outputs": [],
   "source": []
  }
 ],
 "metadata": {
  "kernelspec": {
   "display_name": "base",
   "language": "python",
   "name": "python3"
  },
  "language_info": {
   "codemirror_mode": {
    "name": "ipython",
    "version": 3
   },
   "file_extension": ".py",
   "mimetype": "text/x-python",
   "name": "python",
   "nbconvert_exporter": "python",
   "pygments_lexer": "ipython3",
   "version": "3.10.16"
  }
 },
 "nbformat": 4,
 "nbformat_minor": 2
}
