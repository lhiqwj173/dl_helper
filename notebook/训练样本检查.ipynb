{
 "cells": [
  {
   "cell_type": "code",
   "execution_count": 1,
   "metadata": {},
   "outputs": [],
   "source": [
    "import os\n",
    "import numpy as np\n",
    "from dl_helper.rl.custom_imitation_module.dataset import LobTrajectoryDataset"
   ]
  },
  {
   "cell_type": "code",
   "execution_count": 2,
   "metadata": {},
   "outputs": [
    {
     "name": "stdout",
     "output_type": "stream",
     "text": [
      "样本类别数量: [44790, 45744]\n",
      "[val] 样本数量: 90534\n"
     ]
    }
   ],
   "source": [
    "base_data_folder = r'D:\\L2_DATA_T0_ETF\\train_data\\RAW\\BC_train_data_20250818'\n",
    "data_dict_folder = os.path.join(base_data_folder, 'data_dict')\n",
    "train_split_rng = np.random.default_rng(seed=0)\n",
    "\n",
    "# 简单的数据结构\n",
    "his_len = 50\n",
    "base_features = [item for i in range(1) for item in [f'BASE卖{i+1}价', f'BASE卖{i+1}量', f'BASE买{i+1}价', f'BASE买{i+1}量']]\n",
    "ext_features = [\n",
    "    \"距离收盘秒数\",\n",
    "    'EXT_ofi',\n",
    "]\n",
    "data_config = {\n",
    "    'his_len': his_len,# 每个样本的 历史数据长度\n",
    "    'need_cols':  base_features + ext_features,\n",
    "}\n",
    "\n",
    "dataset = LobTrajectoryDataset(\n",
    "    data_folder = data_dict_folder, \n",
    "    data_config = data_config, \n",
    "    base_data_folder=os.path.join(base_data_folder, 'train_data'),\n",
    "    split_rng=train_split_rng,\n",
    "    data_type='val',\n",
    "    std=False,\n",
    ")"
   ]
  },
  {
   "cell_type": "code",
   "execution_count": 3,
   "metadata": {},
   "outputs": [],
   "source": [
    "i = 0\n",
    "x1s = []\n",
    "x2s = []\n",
    "ys = []\n",
    "std_datas = []\n",
    "while True:\n",
    "    x, y ,std_data = dataset[i]\n",
    "    # 样本所属日期\n",
    "    sample_date = x[-1]\n",
    "    # 真实的x \n",
    "    x1 = x[:-4].reshape(his_len, len(base_features) + len(ext_features))    # 时序数据 his_len 步\n",
    "    x2 = x[-4:]     # 静态数据 symbol_id/距离收盘秒数/是否持仓/日期id（训练时不使用）\n",
    "    break"
   ]
  },
  {
   "cell_type": "code",
   "execution_count": 4,
   "metadata": {},
   "outputs": [
    {
     "data": {
      "text/plain": [
       "np.float32(12979.0)"
      ]
     },
     "execution_count": 4,
     "metadata": {},
     "output_type": "execute_result"
    }
   ],
   "source": [
    "# 样本所属日期\n",
    "sample_date = x[-1]\n",
    "sample_date"
   ]
  },
  {
   "cell_type": "code",
   "execution_count": 7,
   "metadata": {},
   "outputs": [
    {
     "data": {
      "text/plain": [
       "np.float32(0.98358583)"
      ]
     },
     "execution_count": 7,
     "metadata": {},
     "output_type": "execute_result"
    }
   ],
   "source": [
    "x[-3]"
   ]
  },
  {
   "cell_type": "code",
   "execution_count": null,
   "metadata": {},
   "outputs": [],
   "source": []
  },
  {
   "cell_type": "code",
   "execution_count": null,
   "metadata": {},
   "outputs": [],
   "source": []
  }
 ],
 "metadata": {
  "kernelspec": {
   "display_name": "base",
   "language": "python",
   "name": "python3"
  },
  "language_info": {
   "codemirror_mode": {
    "name": "ipython",
    "version": 3
   },
   "file_extension": ".py",
   "mimetype": "text/x-python",
   "name": "python",
   "nbconvert_exporter": "python",
   "pygments_lexer": "ipython3",
   "version": "3.10.16"
  }
 },
 "nbformat": 4,
 "nbformat_minor": 2
}
