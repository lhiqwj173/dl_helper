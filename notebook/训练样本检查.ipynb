{
 "cells": [
  {
   "cell_type": "code",
   "execution_count": 1,
   "metadata": {},
   "outputs": [],
   "source": [
    "import os\n",
    "import numpy as np\n",
    "from dl_helper.rl.custom_imitation_module.dataset import LobTrajectoryDataset"
   ]
  },
  {
   "cell_type": "code",
   "execution_count": 2,
   "metadata": {},
   "outputs": [
    {
     "name": "stdout",
     "output_type": "stream",
     "text": [
      "当前为 'train' 模式，将启用 nomove_len > 10 的数据过滤功能。\n",
      "第一遍遍历: 统计元数据和索引...\n",
      "使用文件数汇总:\n",
      "159937: 107\n",
      "\n",
      "对训练集进行样本均衡处理...\n",
      "159937 空仓使用样本数量: 88056\n",
      "159937 持仓使用样本数量: 94796\n",
      "159937 样本总数: 182852\n",
      "第二遍遍历: 填充数据到最终字典...\n",
      "\n",
      "检查训练集样本均衡结果...\n",
      "...均衡检查通过。\n",
      "\n",
      "最终样本类别总数 (0/1): [np.int64(91426), np.int64(91426)]\n",
      "[train] 样本数量: 182852\n"
     ]
    }
   ],
   "source": [
    "base_data_folder = r'D:\\L2_DATA_T0_ETF\\train_data\\RAW\\BC_train_data_20250828_deeplob'\n",
    "base_data_folder = r'D:\\L2_DATA_T0_ETF\\train_data\\RAW\\BC_train_data_20250828_bc'\n",
    "data_dict_folder = os.path.join(base_data_folder, 'data_dict')\n",
    "train_split_rng = np.random.default_rng(seed=0)\n",
    "\n",
    "# 简单的数据结构\n",
    "his_len = 30\n",
    "base_features = []\n",
    "ext_features = [\n",
    "    \"EXT_total_ofi\",\n",
    "    \"EXT_ofi_level_1\",\n",
    "    \"EXT_ofi_imbalance\",\n",
    "    \"EXT_log_ret_mid_price\",\n",
    "    \"EXT_log_ret_micro_price\",\n",
    "]\n",
    "data_config = {\n",
    "    'his_len': his_len,# 每个样本的 历史数据长度\n",
    "    'need_cols':  base_features + ext_features,\n",
    "}\n",
    "\n",
    "dataset = LobTrajectoryDataset(\n",
    "    data_folder = data_dict_folder, \n",
    "    data_config = data_config, \n",
    "    base_data_folder=os.path.join(base_data_folder, 'train_data'),\n",
    "    split_rng=train_split_rng,\n",
    "    data_type='train',\n",
    "    use_data_file_num=200\n",
    ")"
   ]
  },
  {
   "cell_type": "code",
   "execution_count": 3,
   "metadata": {},
   "outputs": [],
   "source": [
    "i = 0\n",
    "x1s = []\n",
    "x2s = []\n",
    "ys = []\n",
    "while True:\n",
    "    x, y = dataset[i]\n",
    "    # 样本所属日期\n",
    "    sample_date = x[-1]\n",
    "    # 真实的x \n",
    "    x1 = x[:-4].reshape(his_len, len(base_features) + len(ext_features))    # 时序数据 his_len 步\n",
    "    x2 = x[-4:]     # 静态数据 symbol_id/距离收盘秒数/是否持仓/日期id（训练时不使用）\n",
    "    break"
   ]
  },
  {
   "cell_type": "code",
   "execution_count": 7,
   "metadata": {},
   "outputs": [
    {
     "data": {
      "text/plain": [
       "array([ 2.0911649e-02,  2.0537099e-02,  1.3530562e+00,  2.0586330e-02,\n",
       "        2.9546328e-02,  1.8547164e-02,  5.3119860e-03, -1.4219360e+00,\n",
       "        2.0586330e-02,  2.1242090e-02,  2.9187350e-02,  1.5266868e-02,\n",
       "        1.3530562e+00,  2.0586330e-02,  2.2219254e-02,  2.0275058e-02,\n",
       "        1.6438030e-02,  1.3530562e+00,  2.0586330e-02,  2.2222174e-02,\n",
       "       -4.5270853e+00, -1.5335957e+00, -1.4219360e+00, -4.2434840e+00,\n",
       "       -4.3993773e+00, -4.5553219e-01, -2.5525072e+00, -1.0659649e+00,\n",
       "        2.0586330e-02, -2.7051726e-01, -5.6752604e-02, -2.0746727e+00,\n",
       "       -1.6429797e-01,  2.0586330e-02, -1.2154835e-02,  2.7573043e-01,\n",
       "       -9.5407993e-02,  1.2001039e+00,  2.0586330e-02,  2.1095721e-02,\n",
       "       -4.6080232e+00, -1.3932659e-01, -1.4219360e+00, -4.2444220e+00,\n",
       "       -1.2162937e-01,  5.5055175e+00,  7.0311509e-02,  1.3530562e+00,\n",
       "        4.2855945e+00,  1.0181886e-01, -4.7187905e+00, -4.6219166e-02,\n",
       "       -1.4219360e+00, -4.2444220e+00, -4.9231425e-02,  2.0980213e+00,\n",
       "        5.6257557e-02,  1.3530562e+00,  2.1532075e+00,  1.2221374e-03,\n",
       "        2.7964091e-01,  1.8616047e+00,  1.1130049e+00,  2.0586330e-02,\n",
       "        1.0369023e+00,  2.1839612e+00,  2.3465006e-02,  1.3530562e+00,\n",
       "        2.1529732e+00, -8.8078803e-01,  9.2796463e-01,  7.0687300e-03,\n",
       "        1.2943079e+00,  2.0586330e-02,  2.2199135e-02, -5.2233353e+00,\n",
       "       -4.2120099e-02, -1.4219360e+00, -4.2444220e+00, -1.0774244e-02,\n",
       "        2.1876898e+00, -8.3110787e-02,  1.3353658e+00,  2.1532075e+00,\n",
       "        2.7995420e+00,  1.8819990e-02,  1.3589661e-01, -3.4439951e-02,\n",
       "        2.0586330e-02,  7.8438208e-02,  3.3523808e+00,  2.7564075e-02,\n",
       "        1.3530562e+00,  2.1529732e+00, -2.7726507e+00, -3.5745058e-02,\n",
       "        7.6543111e-03, -8.3338201e-01,  2.0586330e-02,  2.2978205e-02,\n",
       "        8.0569439e-02,  8.1437550e-02,  7.0215887e-01,  2.0586330e-02,\n",
       "        1.1911326e-01,  1.4818553e-02, -1.8696846e-02, -1.4219360e+00,\n",
       "        2.0586330e-02,  2.1324020e-02,  1.8819990e-02,  7.0687300e-03,\n",
       "       -3.4439951e-02,  2.0586330e-02,  2.2199135e-02, -4.8022196e-02,\n",
       "        7.0687300e-03, -2.4738829e-01,  2.0586330e-02,  2.2199135e-02,\n",
       "       -2.0056712e-03,  2.5242728e-01, -2.2504379e-01,  2.0586330e-02,\n",
       "        3.1064814e-02,  1.8819990e-02,  2.5836265e+00, -3.4439951e-02,\n",
       "        2.0586330e-02,  1.8187298e+00,  1.9957658e-03, -1.2724264e+00,\n",
       "       -9.0423986e-02,  2.0586330e-02, -1.6937076e+00,  3.7008341e-02,\n",
       "       -1.2812101e+00,  2.5885968e-02,  2.0586330e-02, -5.8084160e-02,\n",
       "        2.6277214e-02,  5.5086397e-02,  1.3530562e+00,  2.0586330e-02,\n",
       "        2.4094053e-02, -4.8543844e+00, -1.1590334e-01, -1.4219360e+00,\n",
       "       -4.2444220e+00, -1.2704097e-01,  0.0000000e+00,  8.6560607e-01,\n",
       "        0.0000000e+00,  1.2384000e+04], dtype=float32)"
      ]
     },
     "execution_count": 7,
     "metadata": {},
     "output_type": "execute_result"
    }
   ],
   "source": [
    "x"
   ]
  },
  {
   "cell_type": "code",
   "execution_count": 6,
   "metadata": {},
   "outputs": [
    {
     "data": {
      "text/plain": [
       "np.float32(0.86560607)"
      ]
     },
     "execution_count": 6,
     "metadata": {},
     "output_type": "execute_result"
    }
   ],
   "source": [
    "x[-3]"
   ]
  },
  {
   "cell_type": "code",
   "execution_count": null,
   "metadata": {},
   "outputs": [],
   "source": []
  },
  {
   "cell_type": "code",
   "execution_count": null,
   "metadata": {},
   "outputs": [],
   "source": []
  }
 ],
 "metadata": {
  "kernelspec": {
   "display_name": "base",
   "language": "python",
   "name": "python3"
  },
  "language_info": {
   "codemirror_mode": {
    "name": "ipython",
    "version": 3
   },
   "file_extension": ".py",
   "mimetype": "text/x-python",
   "name": "python",
   "nbconvert_exporter": "python",
   "pygments_lexer": "ipython3",
   "version": "3.10.16"
  }
 },
 "nbformat": 4,
 "nbformat_minor": 2
}
