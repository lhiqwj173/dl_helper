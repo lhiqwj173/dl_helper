{
 "cells": [
  {
   "cell_type": "code",
   "execution_count": 4,
   "metadata": {},
   "outputs": [],
   "source": [
    "import pickle\n",
    "import os, datetime\n",
    "import pandas as pd\n",
    "import numpy as np\n",
    "from tqdm import tqdm"
   ]
  },
  {
   "cell_type": "code",
   "execution_count": 5,
   "metadata": {},
   "outputs": [
    {
     "name": "stdout",
     "output_type": "stream",
     "text": [
      "                                                path  test_mean_class_f1\n",
      "0  D:\\code\\forecast_model\\notebook\\20241028_1_bas...            0.635850\n",
      "1  D:\\code\\forecast_model\\notebook\\20241028_1_bas...            0.635000\n",
      "2  D:\\code\\forecast_model\\notebook\\20241027_1_bas...            0.628750\n",
      "3  D:\\code\\forecast_model\\notebook\\20241027_1_bas...            0.623425\n",
      "4  D:\\code\\forecast_model\\notebook\\20241026_1_par...            0.606425\n",
      "5  D:\\code\\forecast_model\\notebook\\20241026_1_par...            0.577425\n",
      "6  D:\\code\\forecast_model\\notebook\\20241026_1_par...            0.572700\n",
      "7  D:\\code\\forecast_model\\notebook\\20241030_1_bas...            0.569087\n",
      "8  D:\\code\\forecast_model\\notebook\\20241027_1_bas...            0.467650\n",
      "使用模型种类 9\n"
     ]
    },
    {
     "data": {
      "text/plain": [
       "['D:\\\\code\\\\forecast_model\\\\notebook\\\\20241028_1_base_part_bin_mid_std\\\\base_binbtabl_mid_std_top5_predict_n100',\n",
       " 'D:\\\\code\\\\forecast_model\\\\notebook\\\\20241028_1_base_part_bin_mid_std\\\\base_binctabl_mid_std_top5_predict_n100',\n",
       " 'D:\\\\code\\\\forecast_model\\\\notebook\\\\20241027_1_base_part_bin\\\\base_binctabl_top5_predict_n100',\n",
       " 'D:\\\\code\\\\forecast_model\\\\notebook\\\\20241027_1_base_part_bin\\\\base_binbtabl_top5_predict_n100',\n",
       " 'D:\\\\code\\\\forecast_model\\\\notebook\\\\20241026_1_part_data\\\\train_depth_only_depth_predict_n100',\n",
       " 'D:\\\\code\\\\forecast_model\\\\notebook\\\\20241026_1_part_data\\\\train_depth_only_deal_predict_n100',\n",
       " 'D:\\\\code\\\\forecast_model\\\\notebook\\\\20241026_1_part_data\\\\train_depth_only_order_predict_n100',\n",
       " 'D:\\\\code\\\\forecast_model\\\\notebook\\\\20241030_1_base_axiallob\\\\base_axiallob_top5_predict_n100',\n",
       " 'D:\\\\code\\\\forecast_model\\\\notebook\\\\20241027_1_base_deeplob\\\\base_deeplob_top5_predict_n100']"
      ]
     },
     "execution_count": 5,
     "metadata": {},
     "output_type": "execute_result"
    }
   ],
   "source": [
    "train_folders = [\n",
    "    r'D:\\code\\forecast_model\\notebook\\20241026_1_part_data',\n",
    "    r'D:\\code\\forecast_model\\notebook\\20241027_1_base_part_bin',\n",
    "    r'D:\\code\\forecast_model\\notebook\\20241028_1_base_part_bin_mid_std',\n",
    "    r'D:\\code\\forecast_model\\notebook\\20241027_1_base_deeplob',\n",
    "    r'D:\\code\\forecast_model\\notebook\\20241030_1_base_axiallob',\n",
    "]\n",
    "\n",
    "# 取所有文件夹\n",
    "_model_folders = []\n",
    "for i in train_folders:\n",
    "    _model_folders += [os.path.join(i, j) for j in os.listdir(i)]\n",
    "\n",
    "# 只取用文件夹\n",
    "_model_folders = [i for i in _model_folders if os.path.isdir(i)]\n",
    "\n",
    "# 只取用top10的模型\n",
    "data = pd.DataFrame()\n",
    "for model_folder in _model_folders:\n",
    "    result_file = os.path.join(model_folder,'result.csv')\n",
    "    _data = pd.read_csv(result_file)\n",
    "\n",
    "    if 'test_class_f1_0' in list(_data):\n",
    "        _data[f'test_mean_class_f1'] = (_data[f'test_class_f1_0'] + _data[f'test_class_f1_1']) / 2\n",
    "    elif 'test_final_class_f1_0' in list(_data):\n",
    "        # 采用 final\n",
    "        _data[f'test_mean_class_f1'] = _data[f'test_final_class_f1_0']\n",
    "        for i in range(1, _data['y_n'][0] - 1):\n",
    "            _data[f'test_mean_class_f1'] += _data[f'test_final_class_f1_{i}']\n",
    "        _data[f'test_mean_class_f1'] = _data[f'test_mean_class_f1'] / (_data['y_n'][0] - 1)\n",
    "    else:\n",
    "        continue\n",
    "\n",
    "    _data['path'] = model_folder.split('_seed')[0]\n",
    "    data = pd.concat([data, _data], ignore_index=True)\n",
    "\n",
    "data = data.loc[:, ['test_mean_class_f1', 'path']]\n",
    "data = data.groupby('path').mean().reset_index()\n",
    "data = data.sort_values(['test_mean_class_f1'], ascending=False).reset_index(drop=True)\n",
    "print(data.head(10))\n",
    "\n",
    "model_folders = data['path'].tolist()\n",
    "\n",
    "print('使用模型种类', len(model_folders))\n",
    "model_folders"
   ]
  },
  {
   "cell_type": "code",
   "execution_count": 6,
   "metadata": {},
   "outputs": [],
   "source": [
    "out_folder = r'D:\\L2_DATA_T0_ETF\\train_data/meta_data_all'\n",
    "os.makedirs(out_folder, exist_ok=True)"
   ]
  },
  {
   "cell_type": "code",
   "execution_count": 7,
   "metadata": {},
   "outputs": [
    {
     "name": "stdout",
     "output_type": "stream",
     "text": [
      "['20240412', '20231219', '20240703', '20240531', '20240625', '20240104', '20231103', '20240126', '20240711', '20240624', '20240603', '20240125', '20240613', '20240116', '20231130', '20240618', '20240418', '20240131', '20240514', '20240808', '20240229', '20240327', '20231206', '20240729', '20240129', '20231213', '20240813', '20240604', '20240306', '20240223', '20240328', '20240529', '20240705', '20240122', '20231201', '20240508', '20240207', '20240419', '20240402', '20231208', '20240701', '20240530', '20240828', '20231113', '20240326', '20240731', '20240409', '20240715', '20240730', '20240823', '20240105', '20240112', '20240513', '20231127', '20240321', '20240612', '20240805', '20240801', '20240410', '20240524', '20240806', '20240220', '20240416', '20231108', '20231222', '20231218', '20240815', '20240305', '20240115', '20231129', '20240429', '20240510', '20240205', '20240614', '20240222', '20240422', '20240708', '20240626', '20240528', '20240619', '20240816', '20231110', '20240227', '20240119', '20240111', '20240401', '20240315', '20240415', '20240527', '20240403', '20240208', '20240202', '20240506', '20240523', '20240716', '20240123', '20231106', '20240130', '20240812', '20240607', '20240605', '20240802', '20240809', '20231211', '20231109', '20240117', '20240712', '20240206', '20240425', '20231215', '20240424', '20240726', '20240807', '20240709', '20240704', '20240724', '20240322', '20240821', '20240509', '20240826', '20240617', '20231220', '20240725', '20231107', '20240221', '20240430', '20240522', '20240304', '20240827', '20240108', '20240319', '20240620', '20240201', '20231221', '20240318', '20240423', '20240329', '20240820', '20240417', '20240228', '20231124', '20240426', '20231204', '20231128', '20240320', '20240325', '20240606', '20231205', '20240710', '20240507', '20231212', '20231225', '20231226', '20231207', '20240702', '20240301', '20240408', '20240814', '20240226', '20240411', '20240118']\n"
     ]
    },
    {
     "name": "stderr",
     "output_type": "stream",
     "text": [
      "100%|██████████| 161/161 [13:57<00:00,  5.20s/it]  \n"
     ]
    },
    {
     "name": "stdout",
     "output_type": "stream",
     "text": [
      "['20240628', '20240109', '20240627', '20240110', '20231214', '20240124', '20240314', '20240219', '20240822', '20231123', '20240611', '20240621', '20240819']\n"
     ]
    },
    {
     "name": "stderr",
     "output_type": "stream",
     "text": [
      "100%|██████████| 13/13 [00:52<00:00,  4.07s/it]\n"
     ]
    },
    {
     "name": "stdout",
     "output_type": "stream",
     "text": [
      "['20240905', '20240830', '20240903', '20240902', '20240904', '20240829']\n"
     ]
    },
    {
     "name": "stderr",
     "output_type": "stream",
     "text": [
      "100%|██████████| 6/6 [00:22<00:00,  3.71s/it]\n"
     ]
    }
   ],
   "source": [
    "for _type in ['train', 'val','test']:\n",
    "    # _type = 'train'\n",
    "    dates = None\n",
    "    for model_folder in _model_folders:\n",
    "        model_output_folder = os.path.join(model_folder,'model_final',_type)\n",
    "        _dates = [i.replace('.csv', '') for i in os.listdir(model_output_folder)]\n",
    "        if None is dates:\n",
    "            dates = _dates\n",
    "        else:\n",
    "            # 取交集\n",
    "            dates = list(set(dates) & set(_dates))\n",
    "    print(dates)\n",
    "\n",
    "    for date in tqdm(dates):\n",
    "        data = None\n",
    "\n",
    "        # 读取所有模型的数据\n",
    "        for main_folder in model_folders:\n",
    "            for folder in _model_folders:\n",
    "                if not folder.startswith(main_folder):\n",
    "                    continue\n",
    "                model_name = os.path.basename(folder)\n",
    "                file = os.path.join(folder,'model_final', _type, date + '.csv')\n",
    "                _data = pd.read_csv(file)\n",
    "                _data.rename(columns={\n",
    "                    '0': f'{model_name}_0',\n",
    "                    '1': f'{model_name}_1',\n",
    "                    '2': f'{model_name}_2',\n",
    "                }, inplace=True)\n",
    "\n",
    "                if data is None:\n",
    "                    data = _data\n",
    "                else:\n",
    "                    # # 检查id / target是否一致\n",
    "                    # ids = list(set(data['id'].to_list()) & set(_data['id'].to_list()))\n",
    "                    # assert data.loc[data['id'].isin(ids), ['id', 'target']].sort_values('id').reset_index(drop=True).equals(_data.loc[_data['id'].isin(ids), ['id', 'target']].sort_values('id').reset_index(drop=True))\n",
    "\n",
    "                    _data = _data.loc[:, [i for i in list(_data) if ('target' not in i)]]\n",
    "                    data = data.merge(_data, on=['id'], how='inner')\n",
    "\n",
    "        # 储存数据\n",
    "        # ids,mean_std, x, y, raw\n",
    "        ids = data['id'].to_list()\n",
    "        mean_std = [(0, 1) for i in range(len(ids))]\n",
    "        x = [(i, i+1) for i in range(len(ids))]\n",
    "        y = data['target'].to_list()\n",
    "        raw = data.iloc[:, 2:]\n",
    "        # raw.columns = range(len(raw.columns))\n",
    "        _out_folder = os.path.join(out_folder,_type)\n",
    "        os.makedirs(_out_folder, exist_ok=True)\n",
    "        pickle.dump((ids,mean_std, x, y, raw), open(os.path.join(_out_folder, date + '.pkl'), 'wb'))\n"
   ]
  },
  {
   "cell_type": "code",
   "execution_count": null,
   "metadata": {},
   "outputs": [],
   "source": []
  },
  {
   "cell_type": "markdown",
   "metadata": {},
   "source": [
    "# 测试"
   ]
  },
  {
   "cell_type": "code",
   "execution_count": 8,
   "metadata": {},
   "outputs": [
    {
     "name": "stdout",
     "output_type": "stream",
     "text": [
      "20112\n"
     ]
    }
   ],
   "source": [
    "file = os.path.join(out_folder, 'train', '20231103.pkl')\n",
    "# file = r\"D:\\L2_DATA_T0_ETF\\train_data\\depth_deal_order_data\\train\\20231103.pkl\"\n",
    "ids,mean_std, x, y, raw = pickle.load(open(file, 'rb'))\n",
    "print(len(ids))"
   ]
  },
  {
   "cell_type": "code",
   "execution_count": 9,
   "metadata": {},
   "outputs": [
    {
     "data": {
      "text/plain": [
       "('159941_1698975384', (0, 1), 2)"
      ]
     },
     "execution_count": 9,
     "metadata": {},
     "output_type": "execute_result"
    }
   ],
   "source": [
    "idx = 0\n",
    "_id = ids[idx]\n",
    "_mean_std = mean_std[idx]\n",
    "_y = y[idx]\n",
    "_id, _mean_std, _y"
   ]
  },
  {
   "cell_type": "code",
   "execution_count": 10,
   "metadata": {},
   "outputs": [
    {
     "data": {
      "text/html": [
       "<div>\n",
       "<style scoped>\n",
       "    .dataframe tbody tr th:only-of-type {\n",
       "        vertical-align: middle;\n",
       "    }\n",
       "\n",
       "    .dataframe tbody tr th {\n",
       "        vertical-align: top;\n",
       "    }\n",
       "\n",
       "    .dataframe thead th {\n",
       "        text-align: right;\n",
       "    }\n",
       "</style>\n",
       "<table border=\"1\" class=\"dataframe\">\n",
       "  <thead>\n",
       "    <tr style=\"text-align: right;\">\n",
       "      <th></th>\n",
       "      <th>base_binbtabl_mid_std_top5_predict_n100_seed0_T4x2_0</th>\n",
       "      <th>base_binbtabl_mid_std_top5_predict_n100_seed0_T4x2_1</th>\n",
       "      <th>base_binbtabl_mid_std_top5_predict_n100_seed0_T4x2_2</th>\n",
       "      <th>base_binbtabl_mid_std_top5_predict_n100_seed1_T4x2_0</th>\n",
       "      <th>base_binbtabl_mid_std_top5_predict_n100_seed1_T4x2_1</th>\n",
       "      <th>base_binbtabl_mid_std_top5_predict_n100_seed1_T4x2_2</th>\n",
       "      <th>base_binbtabl_mid_std_top5_predict_n100_seed2_T4x2_0</th>\n",
       "      <th>base_binbtabl_mid_std_top5_predict_n100_seed2_T4x2_1</th>\n",
       "      <th>base_binbtabl_mid_std_top5_predict_n100_seed2_T4x2_2</th>\n",
       "      <th>base_binbtabl_mid_std_top5_predict_n100_seed3_T4x2_0</th>\n",
       "      <th>...</th>\n",
       "      <th>base_deeplob_top5_predict_n100_seed0_T4x2_2</th>\n",
       "      <th>base_deeplob_top5_predict_n100_seed1_T4x2_0</th>\n",
       "      <th>base_deeplob_top5_predict_n100_seed1_T4x2_1</th>\n",
       "      <th>base_deeplob_top5_predict_n100_seed1_T4x2_2</th>\n",
       "      <th>base_deeplob_top5_predict_n100_seed2_T4x2_0</th>\n",
       "      <th>base_deeplob_top5_predict_n100_seed2_T4x2_1</th>\n",
       "      <th>base_deeplob_top5_predict_n100_seed2_T4x2_2</th>\n",
       "      <th>base_deeplob_top5_predict_n100_seed3_T4x2_0</th>\n",
       "      <th>base_deeplob_top5_predict_n100_seed3_T4x2_1</th>\n",
       "      <th>base_deeplob_top5_predict_n100_seed3_T4x2_2</th>\n",
       "    </tr>\n",
       "  </thead>\n",
       "  <tbody>\n",
       "    <tr>\n",
       "      <th>0</th>\n",
       "      <td>0.227967</td>\n",
       "      <td>0.218834</td>\n",
       "      <td>0.553199</td>\n",
       "      <td>0.25011</td>\n",
       "      <td>0.228442</td>\n",
       "      <td>0.521448</td>\n",
       "      <td>0.249771</td>\n",
       "      <td>0.219628</td>\n",
       "      <td>0.530601</td>\n",
       "      <td>0.233565</td>\n",
       "      <td>...</td>\n",
       "      <td>0.773212</td>\n",
       "      <td>0.250454</td>\n",
       "      <td>0.000307</td>\n",
       "      <td>0.749239</td>\n",
       "      <td>0.00251</td>\n",
       "      <td>0.000748</td>\n",
       "      <td>0.996742</td>\n",
       "      <td>0.025631</td>\n",
       "      <td>0.002588</td>\n",
       "      <td>0.97178</td>\n",
       "    </tr>\n",
       "  </tbody>\n",
       "</table>\n",
       "<p>1 rows × 108 columns</p>\n",
       "</div>"
      ],
      "text/plain": [
       "   base_binbtabl_mid_std_top5_predict_n100_seed0_T4x2_0  \\\n",
       "0                                           0.227967      \n",
       "\n",
       "   base_binbtabl_mid_std_top5_predict_n100_seed0_T4x2_1  \\\n",
       "0                                           0.218834      \n",
       "\n",
       "   base_binbtabl_mid_std_top5_predict_n100_seed0_T4x2_2  \\\n",
       "0                                           0.553199      \n",
       "\n",
       "   base_binbtabl_mid_std_top5_predict_n100_seed1_T4x2_0  \\\n",
       "0                                            0.25011      \n",
       "\n",
       "   base_binbtabl_mid_std_top5_predict_n100_seed1_T4x2_1  \\\n",
       "0                                           0.228442      \n",
       "\n",
       "   base_binbtabl_mid_std_top5_predict_n100_seed1_T4x2_2  \\\n",
       "0                                           0.521448      \n",
       "\n",
       "   base_binbtabl_mid_std_top5_predict_n100_seed2_T4x2_0  \\\n",
       "0                                           0.249771      \n",
       "\n",
       "   base_binbtabl_mid_std_top5_predict_n100_seed2_T4x2_1  \\\n",
       "0                                           0.219628      \n",
       "\n",
       "   base_binbtabl_mid_std_top5_predict_n100_seed2_T4x2_2  \\\n",
       "0                                           0.530601      \n",
       "\n",
       "   base_binbtabl_mid_std_top5_predict_n100_seed3_T4x2_0  ...  \\\n",
       "0                                           0.233565     ...   \n",
       "\n",
       "   base_deeplob_top5_predict_n100_seed0_T4x2_2  \\\n",
       "0                                     0.773212   \n",
       "\n",
       "   base_deeplob_top5_predict_n100_seed1_T4x2_0  \\\n",
       "0                                     0.250454   \n",
       "\n",
       "   base_deeplob_top5_predict_n100_seed1_T4x2_1  \\\n",
       "0                                     0.000307   \n",
       "\n",
       "   base_deeplob_top5_predict_n100_seed1_T4x2_2  \\\n",
       "0                                     0.749239   \n",
       "\n",
       "   base_deeplob_top5_predict_n100_seed2_T4x2_0  \\\n",
       "0                                      0.00251   \n",
       "\n",
       "   base_deeplob_top5_predict_n100_seed2_T4x2_1  \\\n",
       "0                                     0.000748   \n",
       "\n",
       "   base_deeplob_top5_predict_n100_seed2_T4x2_2  \\\n",
       "0                                     0.996742   \n",
       "\n",
       "   base_deeplob_top5_predict_n100_seed3_T4x2_0  \\\n",
       "0                                     0.025631   \n",
       "\n",
       "   base_deeplob_top5_predict_n100_seed3_T4x2_1  \\\n",
       "0                                     0.002588   \n",
       "\n",
       "   base_deeplob_top5_predict_n100_seed3_T4x2_2  \n",
       "0                                      0.97178  \n",
       "\n",
       "[1 rows x 108 columns]"
      ]
     },
     "execution_count": 10,
     "metadata": {},
     "output_type": "execute_result"
    }
   ],
   "source": [
    "a, b = x[idx]\n",
    "data = raw.iloc[a:b]\n",
    "data"
   ]
  },
  {
   "cell_type": "code",
   "execution_count": 11,
   "metadata": {},
   "outputs": [
    {
     "data": {
      "text/plain": [
       "['base_binbtabl_mid_std_top5_predict_n100_seed0_T4x2_0',\n",
       " 'base_binbtabl_mid_std_top5_predict_n100_seed0_T4x2_1',\n",
       " 'base_binbtabl_mid_std_top5_predict_n100_seed0_T4x2_2',\n",
       " 'base_binbtabl_mid_std_top5_predict_n100_seed1_T4x2_0',\n",
       " 'base_binbtabl_mid_std_top5_predict_n100_seed1_T4x2_1',\n",
       " 'base_binbtabl_mid_std_top5_predict_n100_seed1_T4x2_2',\n",
       " 'base_binbtabl_mid_std_top5_predict_n100_seed2_T4x2_0',\n",
       " 'base_binbtabl_mid_std_top5_predict_n100_seed2_T4x2_1',\n",
       " 'base_binbtabl_mid_std_top5_predict_n100_seed2_T4x2_2',\n",
       " 'base_binbtabl_mid_std_top5_predict_n100_seed3_T4x2_0',\n",
       " 'base_binbtabl_mid_std_top5_predict_n100_seed3_T4x2_1',\n",
       " 'base_binbtabl_mid_std_top5_predict_n100_seed3_T4x2_2',\n",
       " 'base_binctabl_mid_std_top5_predict_n100_seed0_T4x2_0',\n",
       " 'base_binctabl_mid_std_top5_predict_n100_seed0_T4x2_1',\n",
       " 'base_binctabl_mid_std_top5_predict_n100_seed0_T4x2_2',\n",
       " 'base_binctabl_mid_std_top5_predict_n100_seed1_T4x2_0',\n",
       " 'base_binctabl_mid_std_top5_predict_n100_seed1_T4x2_1',\n",
       " 'base_binctabl_mid_std_top5_predict_n100_seed1_T4x2_2',\n",
       " 'base_binctabl_mid_std_top5_predict_n100_seed2_T4x2_0',\n",
       " 'base_binctabl_mid_std_top5_predict_n100_seed2_T4x2_1',\n",
       " 'base_binctabl_mid_std_top5_predict_n100_seed2_T4x2_2',\n",
       " 'base_binctabl_mid_std_top5_predict_n100_seed3_T4x2_0',\n",
       " 'base_binctabl_mid_std_top5_predict_n100_seed3_T4x2_1',\n",
       " 'base_binctabl_mid_std_top5_predict_n100_seed3_T4x2_2',\n",
       " 'base_binctabl_top5_predict_n100_seed0_T4x2_0',\n",
       " 'base_binctabl_top5_predict_n100_seed0_T4x2_1',\n",
       " 'base_binctabl_top5_predict_n100_seed0_T4x2_2',\n",
       " 'base_binctabl_top5_predict_n100_seed1_T4x2_0',\n",
       " 'base_binctabl_top5_predict_n100_seed1_T4x2_1',\n",
       " 'base_binctabl_top5_predict_n100_seed1_T4x2_2',\n",
       " 'base_binctabl_top5_predict_n100_seed2_T4x2_0',\n",
       " 'base_binctabl_top5_predict_n100_seed2_T4x2_1',\n",
       " 'base_binctabl_top5_predict_n100_seed2_T4x2_2',\n",
       " 'base_binctabl_top5_predict_n100_seed3_T4x2_0',\n",
       " 'base_binctabl_top5_predict_n100_seed3_T4x2_1',\n",
       " 'base_binctabl_top5_predict_n100_seed3_T4x2_2',\n",
       " 'base_binbtabl_top5_predict_n100_seed0_T4x2_0',\n",
       " 'base_binbtabl_top5_predict_n100_seed0_T4x2_1',\n",
       " 'base_binbtabl_top5_predict_n100_seed0_T4x2_2',\n",
       " 'base_binbtabl_top5_predict_n100_seed1_T4x2_0',\n",
       " 'base_binbtabl_top5_predict_n100_seed1_T4x2_1',\n",
       " 'base_binbtabl_top5_predict_n100_seed1_T4x2_2',\n",
       " 'base_binbtabl_top5_predict_n100_seed2_T4x2_0',\n",
       " 'base_binbtabl_top5_predict_n100_seed2_T4x2_1',\n",
       " 'base_binbtabl_top5_predict_n100_seed2_T4x2_2',\n",
       " 'base_binbtabl_top5_predict_n100_seed3_T4x2_0',\n",
       " 'base_binbtabl_top5_predict_n100_seed3_T4x2_1',\n",
       " 'base_binbtabl_top5_predict_n100_seed3_T4x2_2',\n",
       " 'train_depth_only_depth_predict_n100_seed0_T4x2_fp16_0',\n",
       " 'train_depth_only_depth_predict_n100_seed0_T4x2_fp16_1',\n",
       " 'train_depth_only_depth_predict_n100_seed0_T4x2_fp16_2',\n",
       " 'train_depth_only_depth_predict_n100_seed1_T4x2_fp16_0',\n",
       " 'train_depth_only_depth_predict_n100_seed1_T4x2_fp16_1',\n",
       " 'train_depth_only_depth_predict_n100_seed1_T4x2_fp16_2',\n",
       " 'train_depth_only_depth_predict_n100_seed2_T4x2_fp16_0',\n",
       " 'train_depth_only_depth_predict_n100_seed2_T4x2_fp16_1',\n",
       " 'train_depth_only_depth_predict_n100_seed2_T4x2_fp16_2',\n",
       " 'train_depth_only_depth_predict_n100_seed3_T4x2_fp16_0',\n",
       " 'train_depth_only_depth_predict_n100_seed3_T4x2_fp16_1',\n",
       " 'train_depth_only_depth_predict_n100_seed3_T4x2_fp16_2',\n",
       " 'train_depth_only_deal_predict_n100_seed0_T4x2_fp16_0',\n",
       " 'train_depth_only_deal_predict_n100_seed0_T4x2_fp16_1',\n",
       " 'train_depth_only_deal_predict_n100_seed0_T4x2_fp16_2',\n",
       " 'train_depth_only_deal_predict_n100_seed1_T4x2_fp16_0',\n",
       " 'train_depth_only_deal_predict_n100_seed1_T4x2_fp16_1',\n",
       " 'train_depth_only_deal_predict_n100_seed1_T4x2_fp16_2',\n",
       " 'train_depth_only_deal_predict_n100_seed2_T4x2_fp16_0',\n",
       " 'train_depth_only_deal_predict_n100_seed2_T4x2_fp16_1',\n",
       " 'train_depth_only_deal_predict_n100_seed2_T4x2_fp16_2',\n",
       " 'train_depth_only_deal_predict_n100_seed3_T4x2_fp16_0',\n",
       " 'train_depth_only_deal_predict_n100_seed3_T4x2_fp16_1',\n",
       " 'train_depth_only_deal_predict_n100_seed3_T4x2_fp16_2',\n",
       " 'train_depth_only_order_predict_n100_seed0_T4x2_fp16_0',\n",
       " 'train_depth_only_order_predict_n100_seed0_T4x2_fp16_1',\n",
       " 'train_depth_only_order_predict_n100_seed0_T4x2_fp16_2',\n",
       " 'train_depth_only_order_predict_n100_seed1_T4x2_fp16_0',\n",
       " 'train_depth_only_order_predict_n100_seed1_T4x2_fp16_1',\n",
       " 'train_depth_only_order_predict_n100_seed1_T4x2_fp16_2',\n",
       " 'train_depth_only_order_predict_n100_seed2_T4x2_fp16_0',\n",
       " 'train_depth_only_order_predict_n100_seed2_T4x2_fp16_1',\n",
       " 'train_depth_only_order_predict_n100_seed2_T4x2_fp16_2',\n",
       " 'train_depth_only_order_predict_n100_seed3_T4x2_fp16_0',\n",
       " 'train_depth_only_order_predict_n100_seed3_T4x2_fp16_1',\n",
       " 'train_depth_only_order_predict_n100_seed3_T4x2_fp16_2',\n",
       " 'base_axiallob_top5_predict_n100_seed0_T4x2_0',\n",
       " 'base_axiallob_top5_predict_n100_seed0_T4x2_1',\n",
       " 'base_axiallob_top5_predict_n100_seed0_T4x2_2',\n",
       " 'base_axiallob_top5_predict_n100_seed1_T4x2_0',\n",
       " 'base_axiallob_top5_predict_n100_seed1_T4x2_1',\n",
       " 'base_axiallob_top5_predict_n100_seed1_T4x2_2',\n",
       " 'base_axiallob_top5_predict_n100_seed2_T4x2_0',\n",
       " 'base_axiallob_top5_predict_n100_seed2_T4x2_1',\n",
       " 'base_axiallob_top5_predict_n100_seed2_T4x2_2',\n",
       " 'base_axiallob_top5_predict_n100_seed3_T4x2_0',\n",
       " 'base_axiallob_top5_predict_n100_seed3_T4x2_1',\n",
       " 'base_axiallob_top5_predict_n100_seed3_T4x2_2',\n",
       " 'base_deeplob_top5_predict_n100_seed0_T4x2_0',\n",
       " 'base_deeplob_top5_predict_n100_seed0_T4x2_1',\n",
       " 'base_deeplob_top5_predict_n100_seed0_T4x2_2',\n",
       " 'base_deeplob_top5_predict_n100_seed1_T4x2_0',\n",
       " 'base_deeplob_top5_predict_n100_seed1_T4x2_1',\n",
       " 'base_deeplob_top5_predict_n100_seed1_T4x2_2',\n",
       " 'base_deeplob_top5_predict_n100_seed2_T4x2_0',\n",
       " 'base_deeplob_top5_predict_n100_seed2_T4x2_1',\n",
       " 'base_deeplob_top5_predict_n100_seed2_T4x2_2',\n",
       " 'base_deeplob_top5_predict_n100_seed3_T4x2_0',\n",
       " 'base_deeplob_top5_predict_n100_seed3_T4x2_1',\n",
       " 'base_deeplob_top5_predict_n100_seed3_T4x2_2']"
      ]
     },
     "execution_count": 11,
     "metadata": {},
     "output_type": "execute_result"
    },
    {
     "ename": "",
     "evalue": "",
     "output_type": "error",
     "traceback": [
      "\u001b[1;31m在当前单元格或上一个单元格中执行代码时 Kernel 崩溃。请查看单元格中的代码，以确定故障的可能原因。有关详细信息，请单击 <a href='https://aka.ms/vscodeJupyterKernelCrash'>此处</a>。有关更多详细信息，请查看 Jupyter <a href='command:jupyter.viewOutput'>log</a>。"
     ]
    }
   ],
   "source": [
    "list(data)"
   ]
  },
  {
   "cell_type": "code",
   "execution_count": null,
   "metadata": {},
   "outputs": [],
   "source": []
  },
  {
   "cell_type": "code",
   "execution_count": null,
   "metadata": {},
   "outputs": [],
   "source": []
  },
  {
   "cell_type": "code",
   "execution_count": null,
   "metadata": {},
   "outputs": [],
   "source": []
  },
  {
   "cell_type": "code",
   "execution_count": null,
   "metadata": {},
   "outputs": [],
   "source": []
  },
  {
   "cell_type": "code",
   "execution_count": null,
   "metadata": {},
   "outputs": [],
   "source": []
  }
 ],
 "metadata": {
  "kernelspec": {
   "display_name": "base",
   "language": "python",
   "name": "python3"
  },
  "language_info": {
   "codemirror_mode": {
    "name": "ipython",
    "version": 3
   },
   "file_extension": ".py",
   "mimetype": "text/x-python",
   "name": "python",
   "nbconvert_exporter": "python",
   "pygments_lexer": "ipython3",
   "version": "3.11.3"
  },
  "orig_nbformat": 4
 },
 "nbformat": 4,
 "nbformat_minor": 2
}
