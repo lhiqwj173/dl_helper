{
 "cells": [
  {
   "cell_type": "markdown",
   "metadata": {},
   "source": [
    "# 训练"
   ]
  },
  {
   "cell_type": "markdown",
   "metadata": {},
   "source": [
    "# 训练机器\n",
    "- 圣保罗 1_1 WIN\n",
    "- 圣保罗 1_2 WIN\n",
    "- 圣保罗 2_1 WIN\n",
    "- 圣保罗 2_2 WIN\n",
    "\n",
    "---\n",
    "- 首尔1 WIN\n",
    "- 首尔2 WIN\n",
    "- 首尔 ARM 2C record\n",
    "- 首尔 ARM 2C\n",
    "\n",
    "---\n",
    "- 腾讯云 WIN\n",
    "- 圣保罗1 ARM 1C\n",
    "- 圣保罗1 ARM 2C\n",
    "- PC\n",
    "\n",
    "\n",
    "\n"
   ]
  },
  {
   "cell_type": "code",
   "execution_count": 1,
   "metadata": {},
   "outputs": [],
   "source": [
    "# # 训练检查\n",
    "\n",
    "# - dl_helper是否推送\n",
    "# - idx=0 测试，等待alist出现成果\n",
    "# - 检查各账号可用时长\n",
    "# - 全部启动"
   ]
  },
  {
   "cell_type": "code",
   "execution_count": null,
   "metadata": {},
   "outputs": [],
   "source": [
    "# 资料转移\n",
    "# 准备环境\n",
    "!wget https://raw.githubusercontent.com/lhiqwj173/dl_helper/master/envs/transfer.py > /dev/null 2>&1\n",
    "!python transfer.py > /dev/null 2>&1\n",
    "\n",
    "import os\n",
    "os.environ['ALIST_USER'] = 'admin'\n",
    "os.environ['ALIST_PWD'] = 'LHss6632673'\n",
    "\n",
    "!wget -O run.py https://raw.githubusercontent.com/lhiqwj173/dl_helper/master/dl_helper/Transfer_alist_to_kaggle.py > /dev/null 2>&1\n",
    "!python run.py only_transfer"
   ]
  },
  {
   "cell_type": "code",
   "execution_count": null,
   "metadata": {},
   "outputs": [],
   "source": [
    "# 运行训练\n",
    "# 准备环境\n",
    "!wget https://raw.githubusercontent.com/lhiqwj173/dl_helper/master/envs/dl.py > /dev/null 2>&1\n",
    "!python dl.py > /dev/null 2>&1\n",
    "\n",
    "import os\n",
    "os.environ['ALIST_USER'] = 'admin'\n",
    "os.environ['ALIST_PWD'] = 'LHss6632673'\n",
    "\n",
    "!wget -O run.py https://raw.githubusercontent.com/lhiqwj173/dl_helper/master/dl_helper/tests/bc_base/20250825_tcn_baseline.py > /dev/null 2>&1\n",
    "!python run.py "
   ]
  },
  {
   "cell_type": "markdown",
   "metadata": {},
   "source": [
    "# aug 提示词\n"
   ]
  },
  {
   "cell_type": "markdown",
   "metadata": {},
   "source": [
    "                                                train_loss\ttrain_f1\tval_f1\ttest_final_f1\tcost\n",
    "    train_title\t\t\t\t\t\n",
    "    20250825_tcn_baseline_P100_200天训练数据_final\t0.000005\t1.000000\t0.856483\t0.833855\t4.142h\n",
    "\n",
    "    \n",
    "                                                train_loss\ttrain_f1\tval_f1\ttest_final_f1\tcost\n",
    "    train_title\t\t\t\t\t\n",
    "    20250825_tcn_baseline_P100_250天训练数据_final\t0.000005\t1.000000\t0.756394\t0.759930\t4.144h\n",
    "    20250825_tcn_baseline_P100_300天训练数据_final\t0.001992\t0.999316\t0.478070\t0.431994\t4.886h"
   ]
  },
  {
   "cell_type": "markdown",
   "metadata": {},
   "source": [
    "# 数据生成\n",
    "https://www.kaggle.com/code/qtz173/lob-trade-bc\n",
    "\n",
    "### PC\n",
    "- lhssqtz 5\n",
    "- avoneshotpro10079 5\n",
    "- badaimimiwiko536 5\n",
    "- ChawitaGonzalez806 5\n",
    "- KumariMohit888 5\n",
    "- leew92347 5\n",
    "- lhiiqwj 5\n",
    "- lhiqwj 5\n",
    "\n"
   ]
  },
  {
   "cell_type": "code",
   "execution_count": 12,
   "metadata": {},
   "outputs": [
    {
     "name": "stdout",
     "output_type": "stream",
     "text": [
      "Initial loss: 0.7903741002082825\n",
      "Expected loss: 0.6931471824645996\n"
     ]
    }
   ],
   "source": [
    "import torch\n",
    "import torch.nn as nn\n",
    "\n",
    "# 假设 10 个类别\n",
    "num_classes = 2\n",
    "model = nn.Linear(784, num_classes)  # 随机初始化的线性层\n",
    "criterion = nn.CrossEntropyLoss()\n",
    "\n",
    "# 模拟输入和标签\n",
    "inputs = torch.randn(64, 784)  # 64 个样本\n",
    "labels = torch.randint(0, num_classes, (64,))  # 随机标签\n",
    "\n",
    "# 前向传播\n",
    "outputs = model(inputs)\n",
    "loss = criterion(outputs, labels)\n",
    "\n",
    "print(f\"Initial loss: {loss.item()}\")\n",
    "print(f\"Expected loss: {torch.log(torch.tensor(num_classes)).item()}\")"
   ]
  },
  {
   "cell_type": "code",
   "execution_count": 7,
   "metadata": {},
   "outputs": [
    {
     "data": {
      "text/html": [
       "<div>\n",
       "<style scoped>\n",
       "    .dataframe tbody tr th:only-of-type {\n",
       "        vertical-align: middle;\n",
       "    }\n",
       "\n",
       "    .dataframe tbody tr th {\n",
       "        vertical-align: top;\n",
       "    }\n",
       "\n",
       "    .dataframe thead th {\n",
       "        text-align: right;\n",
       "    }\n",
       "</style>\n",
       "<table border=\"1\" class=\"dataframe\">\n",
       "  <thead>\n",
       "    <tr style=\"text-align: right;\">\n",
       "      <th></th>\n",
       "      <th>ts_code</th>\n",
       "      <th>name</th>\n",
       "      <th>start_date</th>\n",
       "      <th>end_date</th>\n",
       "      <th>change_reason</th>\n",
       "    </tr>\n",
       "  </thead>\n",
       "  <tbody>\n",
       "    <tr>\n",
       "      <th>0</th>\n",
       "      <td>600848.SH</td>\n",
       "      <td>上海临港</td>\n",
       "      <td>20151118</td>\n",
       "      <td>None</td>\n",
       "      <td>改名</td>\n",
       "    </tr>\n",
       "    <tr>\n",
       "      <th>2</th>\n",
       "      <td>600848.SH</td>\n",
       "      <td>自仪股份</td>\n",
       "      <td>20070514</td>\n",
       "      <td>20151117</td>\n",
       "      <td>撤销ST</td>\n",
       "    </tr>\n",
       "    <tr>\n",
       "      <th>4</th>\n",
       "      <td>600848.SH</td>\n",
       "      <td>ST自仪</td>\n",
       "      <td>20061026</td>\n",
       "      <td>20070513</td>\n",
       "      <td>完成股改</td>\n",
       "    </tr>\n",
       "    <tr>\n",
       "      <th>6</th>\n",
       "      <td>600848.SH</td>\n",
       "      <td>SST自仪</td>\n",
       "      <td>20061009</td>\n",
       "      <td>20061025</td>\n",
       "      <td>未股改加S</td>\n",
       "    </tr>\n",
       "    <tr>\n",
       "      <th>8</th>\n",
       "      <td>600848.SH</td>\n",
       "      <td>ST自仪</td>\n",
       "      <td>20010508</td>\n",
       "      <td>20061008</td>\n",
       "      <td>ST</td>\n",
       "    </tr>\n",
       "    <tr>\n",
       "      <th>10</th>\n",
       "      <td>600848.SH</td>\n",
       "      <td>自仪股份</td>\n",
       "      <td>19940324</td>\n",
       "      <td>20010507</td>\n",
       "      <td>其他</td>\n",
       "    </tr>\n",
       "  </tbody>\n",
       "</table>\n",
       "</div>"
      ],
      "text/plain": [
       "      ts_code   name start_date  end_date change_reason\n",
       "0   600848.SH   上海临港   20151118      None            改名\n",
       "2   600848.SH   自仪股份   20070514  20151117          撤销ST\n",
       "4   600848.SH   ST自仪   20061026  20070513          完成股改\n",
       "6   600848.SH  SST自仪   20061009  20061025         未股改加S\n",
       "8   600848.SH   ST自仪   20010508  20061008            ST\n",
       "10  600848.SH   自仪股份   19940324  20010507            其他"
      ]
     },
     "execution_count": 7,
     "metadata": {},
     "output_type": "execute_result"
    }
   ],
   "source": [
    "import tushare as ts\n",
    "ts.set_token('fbe5720abb2762d5be688142541abb18dafbaf7078d80c486330f067')\n",
    "pro = ts.pro_api()\n",
    "df = pro.namechange(ts_code='600848.SH', fields='ts_code,name,start_date,end_date,change_reason')\n",
    "df = df.drop_duplicates()\n",
    "df"
   ]
  },
  {
   "cell_type": "code",
   "execution_count": 8,
   "metadata": {},
   "outputs": [
    {
     "data": {
      "text/html": [
       "<div>\n",
       "<style scoped>\n",
       "    .dataframe tbody tr th:only-of-type {\n",
       "        vertical-align: middle;\n",
       "    }\n",
       "\n",
       "    .dataframe tbody tr th {\n",
       "        vertical-align: top;\n",
       "    }\n",
       "\n",
       "    .dataframe thead th {\n",
       "        text-align: right;\n",
       "    }\n",
       "</style>\n",
       "<table border=\"1\" class=\"dataframe\">\n",
       "  <thead>\n",
       "    <tr style=\"text-align: right;\">\n",
       "      <th></th>\n",
       "      <th>ts_code</th>\n",
       "      <th>trade_date</th>\n",
       "      <th>suspend_timing</th>\n",
       "      <th>suspend_type</th>\n",
       "    </tr>\n",
       "  </thead>\n",
       "  <tbody>\n",
       "    <tr>\n",
       "      <th>0</th>\n",
       "      <td>300070.SZ</td>\n",
       "      <td>20200312</td>\n",
       "      <td>None</td>\n",
       "      <td>R</td>\n",
       "    </tr>\n",
       "    <tr>\n",
       "      <th>1</th>\n",
       "      <td>000029.SZ</td>\n",
       "      <td>20200312</td>\n",
       "      <td>None</td>\n",
       "      <td>S</td>\n",
       "    </tr>\n",
       "    <tr>\n",
       "      <th>2</th>\n",
       "      <td>000502.SZ</td>\n",
       "      <td>20200312</td>\n",
       "      <td>None</td>\n",
       "      <td>S</td>\n",
       "    </tr>\n",
       "    <tr>\n",
       "      <th>3</th>\n",
       "      <td>000977.SZ</td>\n",
       "      <td>20200312</td>\n",
       "      <td>None</td>\n",
       "      <td>S</td>\n",
       "    </tr>\n",
       "    <tr>\n",
       "      <th>4</th>\n",
       "      <td>002450.SZ</td>\n",
       "      <td>20200312</td>\n",
       "      <td>None</td>\n",
       "      <td>S</td>\n",
       "    </tr>\n",
       "    <tr>\n",
       "      <th>5</th>\n",
       "      <td>300592.SZ</td>\n",
       "      <td>20200312</td>\n",
       "      <td>None</td>\n",
       "      <td>S</td>\n",
       "    </tr>\n",
       "    <tr>\n",
       "      <th>6</th>\n",
       "      <td>300819.SZ</td>\n",
       "      <td>20200312</td>\n",
       "      <td>09:30-10:00</td>\n",
       "      <td>S</td>\n",
       "    </tr>\n",
       "    <tr>\n",
       "      <th>7</th>\n",
       "      <td>300821.SZ</td>\n",
       "      <td>20200312</td>\n",
       "      <td>09:30-10:00</td>\n",
       "      <td>S</td>\n",
       "    </tr>\n",
       "    <tr>\n",
       "      <th>8</th>\n",
       "      <td>600145.SH</td>\n",
       "      <td>20200312</td>\n",
       "      <td>None</td>\n",
       "      <td>S</td>\n",
       "    </tr>\n",
       "    <tr>\n",
       "      <th>9</th>\n",
       "      <td>600228.SH</td>\n",
       "      <td>20200312</td>\n",
       "      <td>None</td>\n",
       "      <td>S</td>\n",
       "    </tr>\n",
       "    <tr>\n",
       "      <th>10</th>\n",
       "      <td>600310.SH</td>\n",
       "      <td>20200312</td>\n",
       "      <td>None</td>\n",
       "      <td>S</td>\n",
       "    </tr>\n",
       "    <tr>\n",
       "      <th>11</th>\n",
       "      <td>600745.SH</td>\n",
       "      <td>20200312</td>\n",
       "      <td>None</td>\n",
       "      <td>S</td>\n",
       "    </tr>\n",
       "    <tr>\n",
       "      <th>12</th>\n",
       "      <td>600766.SH</td>\n",
       "      <td>20200312</td>\n",
       "      <td>None</td>\n",
       "      <td>S</td>\n",
       "    </tr>\n",
       "    <tr>\n",
       "      <th>13</th>\n",
       "      <td>600891.SH</td>\n",
       "      <td>20200312</td>\n",
       "      <td>None</td>\n",
       "      <td>S</td>\n",
       "    </tr>\n",
       "    <tr>\n",
       "      <th>14</th>\n",
       "      <td>601127.SH</td>\n",
       "      <td>20200312</td>\n",
       "      <td>None</td>\n",
       "      <td>S</td>\n",
       "    </tr>\n",
       "    <tr>\n",
       "      <th>15</th>\n",
       "      <td>601162.SH</td>\n",
       "      <td>20200312</td>\n",
       "      <td>None</td>\n",
       "      <td>S</td>\n",
       "    </tr>\n",
       "    <tr>\n",
       "      <th>16</th>\n",
       "      <td>603002.SH</td>\n",
       "      <td>20200312</td>\n",
       "      <td>None</td>\n",
       "      <td>S</td>\n",
       "    </tr>\n",
       "    <tr>\n",
       "      <th>17</th>\n",
       "      <td>603399.SH</td>\n",
       "      <td>20200312</td>\n",
       "      <td>None</td>\n",
       "      <td>S</td>\n",
       "    </tr>\n",
       "    <tr>\n",
       "      <th>18</th>\n",
       "      <td>832651.BJ</td>\n",
       "      <td>20200312</td>\n",
       "      <td>None</td>\n",
       "      <td>S</td>\n",
       "    </tr>\n",
       "    <tr>\n",
       "      <th>19</th>\n",
       "      <td>833394.BJ</td>\n",
       "      <td>20200312</td>\n",
       "      <td>None</td>\n",
       "      <td>S</td>\n",
       "    </tr>\n",
       "    <tr>\n",
       "      <th>20</th>\n",
       "      <td>834770.BJ</td>\n",
       "      <td>20200312</td>\n",
       "      <td>None</td>\n",
       "      <td>S</td>\n",
       "    </tr>\n",
       "    <tr>\n",
       "      <th>21</th>\n",
       "      <td>835857.BJ</td>\n",
       "      <td>20200312</td>\n",
       "      <td>None</td>\n",
       "      <td>S</td>\n",
       "    </tr>\n",
       "  </tbody>\n",
       "</table>\n",
       "</div>"
      ],
      "text/plain": [
       "      ts_code trade_date suspend_timing suspend_type\n",
       "0   300070.SZ   20200312           None            R\n",
       "1   000029.SZ   20200312           None            S\n",
       "2   000502.SZ   20200312           None            S\n",
       "3   000977.SZ   20200312           None            S\n",
       "4   002450.SZ   20200312           None            S\n",
       "5   300592.SZ   20200312           None            S\n",
       "6   300819.SZ   20200312    09:30-10:00            S\n",
       "7   300821.SZ   20200312    09:30-10:00            S\n",
       "8   600145.SH   20200312           None            S\n",
       "9   600228.SH   20200312           None            S\n",
       "10  600310.SH   20200312           None            S\n",
       "11  600745.SH   20200312           None            S\n",
       "12  600766.SH   20200312           None            S\n",
       "13  600891.SH   20200312           None            S\n",
       "14  601127.SH   20200312           None            S\n",
       "15  601162.SH   20200312           None            S\n",
       "16  603002.SH   20200312           None            S\n",
       "17  603399.SH   20200312           None            S\n",
       "18  832651.BJ   20200312           None            S\n",
       "19  833394.BJ   20200312           None            S\n",
       "20  834770.BJ   20200312           None            S\n",
       "21  835857.BJ   20200312           None            S"
      ]
     },
     "execution_count": 8,
     "metadata": {},
     "output_type": "execute_result"
    }
   ],
   "source": [
    "#提取2020-03-12的停牌股票\n",
    "# df = pro.suspend_d(suspend_type='S', trade_date='20200312')\n",
    "df = pro.suspend_d(trade_date='20200312')\n",
    "df"
   ]
  },
  {
   "cell_type": "code",
   "execution_count": 9,
   "metadata": {},
   "outputs": [
    {
     "ename": "Exception",
     "evalue": "抱歉，您没有接口访问权限，权限的具体详情访问：https://tushare.pro/document/1?doc_id=108。",
     "output_type": "error",
     "traceback": [
      "\u001b[1;31m---------------------------------------------------------------------------\u001b[0m",
      "\u001b[1;31mException\u001b[0m                                 Traceback (most recent call last)",
      "Cell \u001b[1;32mIn[9], line 1\u001b[0m\n\u001b[1;32m----> 1\u001b[0m df \u001b[38;5;241m=\u001b[39m \u001b[43mpro\u001b[49m\u001b[38;5;241;43m.\u001b[39;49m\u001b[43mquery\u001b[49m\u001b[43m(\u001b[49m\u001b[38;5;124;43m'\u001b[39;49m\u001b[38;5;124;43mtrade_cal\u001b[39;49m\u001b[38;5;124;43m'\u001b[39;49m\u001b[43m,\u001b[49m\u001b[43m \u001b[49m\u001b[43mstart_date\u001b[49m\u001b[38;5;241;43m=\u001b[39;49m\u001b[38;5;124;43m'\u001b[39;49m\u001b[38;5;124;43m20180101\u001b[39;49m\u001b[38;5;124;43m'\u001b[39;49m\u001b[43m,\u001b[49m\u001b[43m \u001b[49m\u001b[43mend_date\u001b[49m\u001b[38;5;241;43m=\u001b[39;49m\u001b[38;5;124;43m'\u001b[39;49m\u001b[38;5;124;43m20181231\u001b[39;49m\u001b[38;5;124;43m'\u001b[39;49m\u001b[43m)\u001b[49m\n\u001b[0;32m      2\u001b[0m df\n",
      "File \u001b[1;32md:\\programs\\miniconda3\\lib\\site-packages\\tushare\\pro\\client.py:45\u001b[0m, in \u001b[0;36mDataApi.query\u001b[1;34m(self, api_name, fields, **kwargs)\u001b[0m\n\u001b[0;32m     43\u001b[0m result \u001b[38;5;241m=\u001b[39m json\u001b[38;5;241m.\u001b[39mloads(res\u001b[38;5;241m.\u001b[39mtext)\n\u001b[0;32m     44\u001b[0m \u001b[38;5;28;01mif\u001b[39;00m result[\u001b[38;5;124m'\u001b[39m\u001b[38;5;124mcode\u001b[39m\u001b[38;5;124m'\u001b[39m] \u001b[38;5;241m!=\u001b[39m \u001b[38;5;241m0\u001b[39m:\n\u001b[1;32m---> 45\u001b[0m     \u001b[38;5;28;01mraise\u001b[39;00m \u001b[38;5;167;01mException\u001b[39;00m(result[\u001b[38;5;124m'\u001b[39m\u001b[38;5;124mmsg\u001b[39m\u001b[38;5;124m'\u001b[39m])\n\u001b[0;32m     46\u001b[0m data \u001b[38;5;241m=\u001b[39m result[\u001b[38;5;124m'\u001b[39m\u001b[38;5;124mdata\u001b[39m\u001b[38;5;124m'\u001b[39m]\n\u001b[0;32m     47\u001b[0m columns \u001b[38;5;241m=\u001b[39m data[\u001b[38;5;124m'\u001b[39m\u001b[38;5;124mfields\u001b[39m\u001b[38;5;124m'\u001b[39m]\n",
      "\u001b[1;31mException\u001b[0m: 抱歉，您没有接口访问权限，权限的具体详情访问：https://tushare.pro/document/1?doc_id=108。"
     ]
    }
   ],
   "source": [
    "df = pro.query('trade_cal', start_date='20180101', end_date='20181231')\n",
    "df"
   ]
  },
  {
   "cell_type": "markdown",
   "metadata": {},
   "source": [
    "# 内存检查 \n",
    "只用于 linux "
   ]
  },
  {
   "cell_type": "code",
   "execution_count": null,
   "metadata": {},
   "outputs": [],
   "source": [
    "!pip install memray"
   ]
  },
  {
   "cell_type": "code",
   "execution_count": null,
   "metadata": {},
   "outputs": [],
   "source": [
    "%%writefile test.py\n",
    "\n",
    "# test code"
   ]
  },
  {
   "cell_type": "code",
   "execution_count": null,
   "metadata": {},
   "outputs": [],
   "source": [
    "!python3 -m memray run -o output.bin test.py\n",
    "!python3 -m memray flamegraph output.bin"
   ]
  },
  {
   "cell_type": "markdown",
   "metadata": {},
   "source": [
    "# 可用内存可视化"
   ]
  },
  {
   "cell_type": "code",
   "execution_count": 2,
   "metadata": {},
   "outputs": [
    {
     "name": "stdout",
     "output_type": "stream",
     "text": [
      "min: 21.600\n",
      "67    21.76\n",
      "68    21.72\n",
      "69    21.71\n",
      "70    21.63\n",
      "71    21.70\n",
      "dtype: float64\n",
      "只在文件1中的行:\n",
      "      Unnamed: 0  BASE买1价  BASE卖1价  before_market_close_sec  valley_peak  \\\n",
      "0              0    5.235    5.239                 0.980556          NaN   \n",
      "2              1    5.235    5.239                 0.980556          NaN   \n",
      "4              2    5.235    5.239                 0.980556          NaN   \n",
      "6              3    5.235    5.239                 0.980556          NaN   \n",
      "8              4    5.235    5.239                 0.980556          NaN   \n",
      "...          ...      ...      ...                      ...          ...   \n",
      "7650        3825    5.236    5.237                 0.001566          NaN   \n",
      "7652        3826    5.236    5.237                 0.001414          NaN   \n",
      "7654        3827    5.236    5.237                 0.001111          NaN   \n",
      "7656        3828    5.236    5.237                 0.000960          NaN   \n",
      "7658        3829    5.236    5.237                 0.000657          0.0   \n",
      "\n",
      "      action  profit  sell_save  raw_sell_save  raw_profit  mid_price_raw  \\\n",
      "0        1.0     0.0  -0.000291      -0.000291         0.0         5.2370   \n",
      "2        1.0     0.0  -0.000291      -0.000291         0.0         5.2370   \n",
      "4        1.0     0.0  -0.000291      -0.000291         0.0         5.2370   \n",
      "6        1.0     0.0  -0.000291      -0.000291         0.0         5.2370   \n",
      "8        1.0     0.0  -0.000291      -0.000291         0.0         5.2370   \n",
      "...      ...     ...        ...            ...         ...            ...   \n",
      "7650     1.0     0.0  -0.000291      -0.000291         0.0         5.2365   \n",
      "7652     1.0     0.0  -0.000291      -0.000291         0.0         5.2365   \n",
      "7654     1.0     0.0  -0.000291      -0.000291         0.0         5.2365   \n",
      "7656     1.0     0.0  -0.000291      -0.000291         0.0         5.2365   \n",
      "7658     1.0     0.0  -0.000291      -0.000291         0.0         5.2365   \n",
      "\n",
      "      mid_price  no_move_len_raw  no_move_len  \n",
      "0        5.2370                6            6  \n",
      "2        5.2370                6            6  \n",
      "4        5.2370                6            6  \n",
      "6        5.2370                6            6  \n",
      "8        5.2370                6            0  \n",
      "...         ...              ...          ...  \n",
      "7650     5.2365                7            7  \n",
      "7652     5.2365                7            7  \n",
      "7654     5.2365                7            7  \n",
      "7656     5.2365                7            0  \n",
      "7658     5.2365                7            0  \n",
      "\n",
      "[3830 rows x 14 columns]\n",
      "只在文件2中的行:\n",
      "      Unnamed: 0  BASE买1价  BASE卖1价  before_market_close_sec  valley_peak  \\\n",
      "1              0    5.300    5.301                 0.975051          NaN   \n",
      "3              1    5.300    5.301                 0.975051          NaN   \n",
      "5              2    5.300    5.301                 0.975051          NaN   \n",
      "7              3    5.300    5.301                 0.975051          NaN   \n",
      "9              4    5.300    5.301                 0.975051          NaN   \n",
      "...          ...      ...      ...                      ...          ...   \n",
      "8417        4587    5.299    5.300                 0.001212          NaN   \n",
      "8418        4588    5.299    5.300                 0.001061          NaN   \n",
      "8419        4589    5.299    5.300                 0.000909          NaN   \n",
      "8420        4590    5.299    5.300                 0.000758          NaN   \n",
      "8421        4591    5.299    5.300                 0.000606          1.0   \n",
      "\n",
      "      action  profit  sell_save  raw_sell_save  raw_profit  mid_price_raw  \\\n",
      "1        1.0     0.0   0.000089       0.000089    0.000000         5.3005   \n",
      "3        1.0     0.0   0.000089       0.000089    0.000000         5.3005   \n",
      "5        1.0     0.0   0.000089       0.000089    0.000000         5.3005   \n",
      "7        1.0     0.0   0.000089       0.000089    0.000000         5.3005   \n",
      "9        1.0     0.0   0.000089       0.000089    0.000000         5.3005   \n",
      "...      ...     ...        ...            ...         ...            ...   \n",
      "8417     0.0     0.0   0.000000       0.000000   -0.000289         5.2995   \n",
      "8418     0.0     0.0   0.000000       0.000000   -0.000289         5.2995   \n",
      "8419     0.0     0.0   0.000000       0.000000   -0.000289         5.2995   \n",
      "8420     1.0     0.0  -0.000289      -0.000289    0.000000         5.2995   \n",
      "8421     1.0     0.0  -0.000289      -0.000289    0.000000         5.2995   \n",
      "\n",
      "      mid_price  no_move_len_raw  no_move_len  \n",
      "1        5.3005               24           24  \n",
      "3        5.3005               24           24  \n",
      "5        5.3005               24           24  \n",
      "7        5.3005               24           24  \n",
      "9        5.3005               24           24  \n",
      "...         ...              ...          ...  \n",
      "8417     5.2995               13          149  \n",
      "8418     5.2995               13          149  \n",
      "8419     5.2995               13          149  \n",
      "8420     5.2995               13            0  \n",
      "8421     5.2995               13            0  \n",
      "\n",
      "[4592 rows x 14 columns]\n"
     ]
    },
    {
     "data": {
      "text/plain": [
       "<Axes: >"
      ]
     },
     "execution_count": 2,
     "metadata": {},
     "output_type": "execute_result"
    },
    {
     "data": {
      "image/png": "[encoded data removed]",
      "text/plain": [
       "<Figure size 640x480 with 1 Axes>"
      ]
     },
     "metadata": {},
     "output_type": "display_data"
    }
   ],
   "source": [
    "import re\n",
    "import pandas as pd\n",
    "file = r\"C:\\Users\\lh\\Desktop\\temp\\20250505_lob_trade_dagger_20250507.log\" \n",
    "# file = r\"C:\\Users\\lh\\Desktop\\temp\\20250505_lob_trade_dagger_2_20250507.log\" \n",
    "\n",
    "pattern = r\"(\\d+\\.\\d+)\\s*GB\"  # 使用捕获组 `(\\d+\\.\\d+)` 提取数字部分\n",
    "ava_mem = []\n",
    "with open(file, 'r',encoding='utf-8')as f:\n",
    "    for line in f:\n",
    "        line = line.strip()  # 去除首尾空白字符（如换行符）\n",
    "        if '[train 0] 系统可用内存' in line:\n",
    "            match = re.search(pattern, line)\n",
    "            memory = match.group(1)  # 提取第一个捕获组（即数字部分）\n",
    "            ava_mem.append(float(memory))\n",
    "\n",
    "ava_mem = pd.Series(ava_mem)\n",
    "print(f'min: {ava_mem.min():.3f}')\n",
    "print(ava_mem[-5:])\n",
    "ava_mem.plot()"
   ]
  },
  {
   "cell_type": "markdown",
   "metadata": {},
   "source": [
    "# 解压bc压缩数据"
   ]
  },
  {
   "cell_type": "code",
   "execution_count": 15,
   "metadata": {},
   "outputs": [],
   "source": [
    "from py_ext.lzma import decompress\n",
    "import os\n",
    "\n",
    "# 解压文件\n",
    "local_folder = r'D:\\L2_DATA_T0_ETF\\train_data\\RAW\\BC_train_data\\bc_train_data_21'\n",
    "# local_folder = r'D:\\L2_DATA_T0_ETF\\train_data\\RAW\\BC_train_data\\temp'\n",
    "files = os.listdir(local_folder)\n",
    "for file in files:\n",
    "    decompress(os.path.join(local_folder, file))"
   ]
  },
  {
   "cell_type": "markdown",
   "metadata": {},
   "source": [
    "# 性能分析\n",
    "### cProfile 文件可视化"
   ]
  },
  {
   "cell_type": "code",
   "execution_count": 5,
   "metadata": {},
   "outputs": [
    {
     "name": "stderr",
     "output_type": "stream",
     "text": [
      "Traceback (most recent call last):\n",
      "  File \"d:\\programs\\miniconda3\\lib\\runpy.py\", line 196, in _run_module_as_main\n",
      "    return _run_code(code, main_globals, None,\n",
      "  File \"d:\\programs\\miniconda3\\lib\\runpy.py\", line 86, in _run_code\n",
      "    exec(code, run_globals)\n",
      "  File \"d:\\programs\\miniconda3\\lib\\cProfile.py\", line 191, in <module>\n",
      "    main()\n",
      "  File \"d:\\programs\\miniconda3\\lib\\cProfile.py\", line 171, in main\n",
      "    with io.open_code(progname) as fp:\n",
      "FileNotFoundError: [Errno 2] No such file or directory: 'your_script.py'\n"
     ]
    }
   ],
   "source": [
    "# 生成性能分析文件\n",
    "!python -m cProfile -o \"C:\\Users\\lh\\Desktop\\temp\\profile.prof\" your_script.py"
   ]
  },
  {
   "cell_type": "code",
   "execution_count": null,
   "metadata": {},
   "outputs": [],
   "source": [
    "# 启动可视化界面\n",
    "!python -m snakeviz \"C:\\Users\\lh\\Desktop\\temp\\profile.prof\""
   ]
  },
  {
   "cell_type": "markdown",
   "metadata": {},
   "source": [
    "### py-spy"
   ]
  },
  {
   "cell_type": "code",
   "execution_count": null,
   "metadata": {},
   "outputs": [],
   "source": [
    "py-spy record -o \"C:\\Users\\lh\\Desktop\\temp\\profile.json\" -f speedscope -- python \"d:/code/dl_helper/dl_helper/rl/rl_env/lob_trade/lob_expert.py\"\n",
    "py-spy record -o \"C:\\Users\\lh\\Desktop\\temp\\profile.json\" -f speedscope -- python lob_expert.py"
   ]
  },
  {
   "cell_type": "markdown",
   "metadata": {},
   "source": [
    "# 寻找最大学习率"
   ]
  },
  {
   "cell_type": "code",
   "execution_count": 13,
   "metadata": {},
   "outputs": [
    {
     "data": {
      "text/html": [
       "<div>\n",
       "<style scoped>\n",
       "    .dataframe tbody tr th:only-of-type {\n",
       "        vertical-align: middle;\n",
       "    }\n",
       "\n",
       "    .dataframe tbody tr th {\n",
       "        vertical-align: top;\n",
       "    }\n",
       "\n",
       "    .dataframe thead th {\n",
       "        text-align: right;\n",
       "    }\n",
       "</style>\n",
       "<table border=\"1\" class=\"dataframe\">\n",
       "  <thead>\n",
       "    <tr style=\"text-align: right;\">\n",
       "      <th></th>\n",
       "      <th>batch_size</th>\n",
       "      <th>bc/epoch</th>\n",
       "      <th>bc/entropy</th>\n",
       "      <th>bc/ent_loss</th>\n",
       "      <th>bc/prob_true_act</th>\n",
       "      <th>bc/batch</th>\n",
       "      <th>bc/neglogp</th>\n",
       "      <th>bc/l2_norm</th>\n",
       "      <th>bc/l2_loss</th>\n",
       "      <th>bc/samples_so_far</th>\n",
       "      <th>bc/lr</th>\n",
       "      <th>bc/loss</th>\n",
       "    </tr>\n",
       "  </thead>\n",
       "  <tbody>\n",
       "    <tr>\n",
       "      <th>0</th>\n",
       "      <td>32</td>\n",
       "      <td>0</td>\n",
       "      <td>0.693126</td>\n",
       "      <td>-0.000693</td>\n",
       "      <td>0.500669</td>\n",
       "      <td>0</td>\n",
       "      <td>0.691829</td>\n",
       "      <td>1235.378784</td>\n",
       "      <td>0.0</td>\n",
       "      <td>32</td>\n",
       "      <td>1.010000e-07</td>\n",
       "      <td>0.691136</td>\n",
       "    </tr>\n",
       "    <tr>\n",
       "      <th>1</th>\n",
       "      <td>32</td>\n",
       "      <td>0</td>\n",
       "      <td>0.693137</td>\n",
       "      <td>-0.000693</td>\n",
       "      <td>0.500352</td>\n",
       "      <td>1</td>\n",
       "      <td>0.692454</td>\n",
       "      <td>1235.378784</td>\n",
       "      <td>0.0</td>\n",
       "      <td>64</td>\n",
       "      <td>1.020100e-07</td>\n",
       "      <td>0.691761</td>\n",
       "    </tr>\n",
       "    <tr>\n",
       "      <th>2</th>\n",
       "      <td>32</td>\n",
       "      <td>0</td>\n",
       "      <td>0.693141</td>\n",
       "      <td>-0.000693</td>\n",
       "      <td>0.499997</td>\n",
       "      <td>2</td>\n",
       "      <td>0.693159</td>\n",
       "      <td>1235.378784</td>\n",
       "      <td>0.0</td>\n",
       "      <td>96</td>\n",
       "      <td>1.030301e-07</td>\n",
       "      <td>0.692466</td>\n",
       "    </tr>\n",
       "    <tr>\n",
       "      <th>3</th>\n",
       "      <td>32</td>\n",
       "      <td>0</td>\n",
       "      <td>0.693130</td>\n",
       "      <td>-0.000693</td>\n",
       "      <td>0.499667</td>\n",
       "      <td>3</td>\n",
       "      <td>0.693830</td>\n",
       "      <td>1235.378784</td>\n",
       "      <td>0.0</td>\n",
       "      <td>128</td>\n",
       "      <td>1.040604e-07</td>\n",
       "      <td>0.693137</td>\n",
       "    </tr>\n",
       "    <tr>\n",
       "      <th>4</th>\n",
       "      <td>32</td>\n",
       "      <td>0</td>\n",
       "      <td>0.693131</td>\n",
       "      <td>-0.000693</td>\n",
       "      <td>0.500141</td>\n",
       "      <td>4</td>\n",
       "      <td>0.692882</td>\n",
       "      <td>1235.378784</td>\n",
       "      <td>0.0</td>\n",
       "      <td>160</td>\n",
       "      <td>1.051010e-07</td>\n",
       "      <td>0.692189</td>\n",
       "    </tr>\n",
       "  </tbody>\n",
       "</table>\n",
       "</div>"
      ],
      "text/plain": [
       "   batch_size  bc/epoch  bc/entropy  bc/ent_loss  bc/prob_true_act  bc/batch  \\\n",
       "0          32         0    0.693126    -0.000693          0.500669         0   \n",
       "1          32         0    0.693137    -0.000693          0.500352         1   \n",
       "2          32         0    0.693141    -0.000693          0.499997         2   \n",
       "3          32         0    0.693130    -0.000693          0.499667         3   \n",
       "4          32         0    0.693131    -0.000693          0.500141         4   \n",
       "\n",
       "   bc/neglogp   bc/l2_norm  bc/l2_loss  bc/samples_so_far         bc/lr  \\\n",
       "0    0.691829  1235.378784         0.0                 32  1.010000e-07   \n",
       "1    0.692454  1235.378784         0.0                 64  1.020100e-07   \n",
       "2    0.693159  1235.378784         0.0                 96  1.030301e-07   \n",
       "3    0.693830  1235.378784         0.0                128  1.040604e-07   \n",
       "4    0.692882  1235.378784         0.0                160  1.051010e-07   \n",
       "\n",
       "    bc/loss  \n",
       "0  0.691136  \n",
       "1  0.691761  \n",
       "2  0.692466  \n",
       "3  0.693137  \n",
       "4  0.692189  "
      ]
     },
     "execution_count": 13,
     "metadata": {},
     "output_type": "execute_result"
    }
   ],
   "source": [
    "import pandas as pd\n",
    "file = r\"C:\\Users\\lh\\Downloads\\progress_all.csv\"\n",
    "file = r\"D:\\code\\dl_helper\\20250419_lob_trade_bc_2\\progress.csv\"\n",
    "df_progress = pd.read_csv(file)\n",
    "df_progress.head()"
   ]
  },
  {
   "cell_type": "code",
   "execution_count": 50,
   "metadata": {},
   "outputs": [
    {
     "data": {
      "text/plain": [
       "<Axes: >"
      ]
     },
     "execution_count": 50,
     "metadata": {},
     "output_type": "execute_result"
    },
    {
     "data": {
      "image/png": "[encoded data removed]",
      "text/plain": [
       "<Figure size 640x480 with 1 Axes>"
      ]
     },
     "metadata": {},
     "output_type": "display_data"
    }
   ],
   "source": [
    "df_progress['bc/lr'].iloc[:750].plot()"
   ]
  },
  {
   "cell_type": "code",
   "execution_count": 51,
   "metadata": {},
   "outputs": [
    {
     "data": {
      "text/plain": [
       "<Axes: >"
      ]
     },
     "execution_count": 51,
     "metadata": {},
     "output_type": "execute_result"
    },
    {
     "data": {
      "image/png": "[encoded data removed]",
      "text/plain": [
       "<Figure size 640x480 with 1 Axes>"
      ]
     },
     "metadata": {},
     "output_type": "display_data"
    }
   ],
   "source": [
    "df_progress['bc/loss'].iloc[:750].plot()"
   ]
  },
  {
   "cell_type": "code",
   "execution_count": 3,
   "metadata": {},
   "outputs": [
    {
     "data": {
      "image/png": "[encoded data removed]",
      "text/plain": [
       "<Figure size 1000x600 with 1 Axes>"
      ]
     },
     "metadata": {},
     "output_type": "display_data"
    },
    {
     "data": {
      "text/plain": [
       "np.float64(0.0221938139794073)"
      ]
     },
     "execution_count": 3,
     "metadata": {},
     "output_type": "execute_result"
    }
   ],
   "source": [
    "from dl_helper.rl.rl_utils import find_best_lr\n",
    "data = df_progress.iloc[:120]\n",
    "find_best_lr(data['bc/lr'], data['bc/loss'])"
   ]
  },
  {
   "cell_type": "markdown",
   "metadata": {},
   "source": [
    "# 读取数据测试"
   ]
  },
  {
   "cell_type": "code",
   "execution_count": 10,
   "metadata": {},
   "outputs": [
    {
     "data": {
      "text/plain": [
       "(7823.6707333773375, 101687)"
      ]
     },
     "execution_count": 10,
     "metadata": {},
     "output_type": "execute_result"
    }
   ],
   "source": [
    "import pickle\n",
    "import pandas as pd\n",
    "import numpy as np\n",
    "\n",
    "file = r\"C:\\Users\\lh\\Downloads\\val_data.pkl\"\n",
    "all_preds, all_true, total_loss, num_samples = pickle.load(open(file, 'rb'))\n",
    "total_loss, num_samples"
   ]
  },
  {
   "cell_type": "code",
   "execution_count": 25,
   "metadata": {},
   "outputs": [
    {
     "name": "stdout",
     "output_type": "stream",
     "text": [
      "2025-04-23 02:36:43 | lob_env.py:__init__:1494 - [958386128] init logger: C:\\Users\\lh\\Desktop\\temp\\lob_env\\logs\\test_20250423.log\n",
      "2025-04-23 02:36:43 | lob_env.py:__init__:121 - [train] debug_date: ['20240131']\n",
      "2025-04-23 02:36:43 | lob_env.py:__init__:125 - [train] debug_time: 13004\n",
      "2025-04-23 02:36:43 | lob_env.py:__init__:189 - [train] data_producer init done\n",
      "2025-04-23 02:36:43 | lob_env.py:__init__:1553 - [958386128][train] init env done\n",
      "2025-04-23 02:36:43 | lob_env.py:reset:1864 - [958386128][train] reset\n",
      "2025-04-23 02:36:43 | lob_env.py:_pre_files:253 - [train] prepare files: ['20240131.pkl']\n",
      "2025-04-23 02:36:43 | lob_env.py:_load_data:271 - [train] load date file: 20240131.pkl\n",
      "2025-04-23 02:36:43 | lob_env.py:_load_data:355 - [train] init idxs: [[np.int64(2160), np.int64(4585), 0]]\n",
      "2025-04-23 02:36:43 | lob_env.py:reset:1885 - acc reset: 1\n"
     ]
    }
   ],
   "source": [
    "from dl_helper.rl.rl_env.lob_trade.lob_env import LOB_trade_env\n",
    "import numpy as np\n",
    "\n",
    "debug_obs_date = np.float32(12448.0)\n",
    "debug_obs_time = np.float32(0.65676767)\n",
    "init_pos = 1\n",
    "\n",
    "code = '513050'\n",
    "env = LOB_trade_env({\n",
    "        'data_type': 'train',# 训练/测试\n",
    "        'his_len': 100,# 每个样本的 历史数据长度\n",
    "        'need_cols': [item for i in range(5) for item in [f'BASE卖{i+1}价', f'BASE卖{i+1}量', f'BASE买{i+1}价', f'BASE买{i+1}量']],\n",
    "        'use_symbols': [code],\n",
    "\n",
    "        'train_folder': r'C:\\Users\\lh\\Desktop\\temp\\lob_env',\n",
    "        'train_title': 'test',\n",
    "    },\n",
    "    debug_obs_date=debug_obs_date,\n",
    "    debug_obs_time=debug_obs_time,\n",
    "    debug_init_pos = init_pos,\n",
    "    dump_bid_ask_accnet=True,\n",
    ")\n",
    "\n",
    "obs, info = env.reset()"
   ]
  },
  {
   "cell_type": "code",
   "execution_count": 41,
   "metadata": {},
   "outputs": [
    {
     "data": {
      "text/plain": [
       "(array([-2.7533922 ,  0.30286825, -2.7520857 , -0.16164644, -2.7533922 ],\n",
       "       dtype=float32),\n",
       " array([-2.7533922 ,  0.30286825, -2.7520857 , -0.16150232, -2.7533922 ],\n",
       "       dtype=float32))"
      ]
     },
     "execution_count": 41,
     "metadata": {},
     "output_type": "execute_result"
    }
   ],
   "source": [
    "traj.obs[0][:5], obs[:5]"
   ]
  },
  {
   "cell_type": "code",
   "execution_count": 29,
   "metadata": {},
   "outputs": [
    {
     "data": {
      "text/plain": [
       "((2004,), (2004,))"
      ]
     },
     "execution_count": 29,
     "metadata": {},
     "output_type": "execute_result"
    }
   ],
   "source": [
    "traj.obs[0].shape, obs.shape"
   ]
  },
  {
   "cell_type": "code",
   "execution_count": 42,
   "metadata": {},
   "outputs": [
    {
     "data": {
      "text/plain": [
       "True"
      ]
     },
     "execution_count": 42,
     "metadata": {},
     "output_type": "execute_result"
    }
   ],
   "source": [
    "np.array_equal(traj.obs[0][-5:], obs[-5:])"
   ]
  },
  {
   "cell_type": "code",
   "execution_count": 6,
   "metadata": {},
   "outputs": [
    {
     "name": "stderr",
     "output_type": "stream",
     "text": [
      "\u001b[32m2025-04-23 14:00:23.792\u001b[0m | \u001b[1mINFO    \u001b[0m | \u001b[36mpy_ext.tool\u001b[0m:\u001b[36mlog\u001b[0m:\u001b[36m843\u001b[0m - \u001b[1mlob_expert.py:__init__:59 - cache all expert data\u001b[0m\n",
      "\u001b[32m2025-04-23 14:00:52.314\u001b[0m | \u001b[1mINFO    \u001b[0m | \u001b[36mpy_ext.tool\u001b[0m:\u001b[36mlog\u001b[0m:\u001b[36m843\u001b[0m - \u001b[1mlob_expert.py:cache_all:87 - cache_all done, cache_data: 327 dates\u001b[0m\n"
     ]
    }
   ],
   "source": [
    "from dl_helper.rl.rl_env.lob_trade.lob_expert import LobExpert_file\n",
    "\n",
    "expert = LobExpert_file(pre_cache=True)"
   ]
  },
  {
   "cell_type": "code",
   "execution_count": 23,
   "metadata": {},
   "outputs": [
    {
     "data": {
      "text/plain": [
       "(np.float32(0.0), np.float32(0.0), np.float32(1.0))"
      ]
     },
     "execution_count": 23,
     "metadata": {},
     "output_type": "execute_result"
    }
   ],
   "source": [
    "traj.obs[132][-2], traj.obs[133][-2], traj.obs[134][-2]"
   ]
  },
  {
   "cell_type": "code",
   "execution_count": 22,
   "metadata": {},
   "outputs": [
    {
     "data": {
      "text/plain": [
       "(np.float64(1.0), np.float64(0.0), np.float64(0.0))"
      ]
     },
     "execution_count": 22,
     "metadata": {},
     "output_type": "execute_result"
    }
   ],
   "source": [
    "traj.acts[132], traj.acts[133], traj.acts[134]"
   ]
  },
  {
   "cell_type": "code",
   "execution_count": 21,
   "metadata": {},
   "outputs": [
    {
     "data": {
      "text/plain": [
       "(np.float64(1.0), 0)"
      ]
     },
     "execution_count": 21,
     "metadata": {},
     "output_type": "execute_result"
    }
   ],
   "source": [
    "expert.get_action(traj.obs[133]), expert.get_action(traj.obs[134])"
   ]
  },
  {
   "cell_type": "code",
   "execution_count": 48,
   "metadata": {},
   "outputs": [
    {
     "data": {
      "text/plain": [
       "<Axes: >"
      ]
     },
     "execution_count": 48,
     "metadata": {},
     "output_type": "execute_result"
    },
    {
     "data": {
      "image/png": "[encoded data removed]",
      "text/plain": [
       "<Figure size 640x480 with 1 Axes>"
      ]
     },
     "metadata": {},
     "output_type": "display_data"
    }
   ],
   "source": [
    "pd.Series(traj.obs[:, 0]).plot()"
   ]
  },
  {
   "cell_type": "code",
   "execution_count": 50,
   "metadata": {},
   "outputs": [],
   "source": [
    "import pandas as pd\n",
    "from dl_helper.rl.rl_env.lob_trade.lob_const import MAX_SEC_BEFORE_CLOSE\n",
    "df = pd.DataFrame({\n",
    "    'traj_before_market_close_sec': traj.obs[:-1, -4] * MAX_SEC_BEFORE_CLOSE,\n",
    "    'traj_pos': traj.obs[:-1, -2],\n",
    "    'traj_act': traj.acts,\n",
    "    'act': [expert.get_action(traj.obs[i]) for i in range(len(traj.acts))],\n",
    "})\n",
    "df.head()\n",
    "df.to_csv(r'C:\\Users\\lh\\Desktop\\temp\\traj.csv', index=False)"
   ]
  },
  {
   "cell_type": "code",
   "execution_count": 31,
   "metadata": {},
   "outputs": [
    {
     "ename": "ValueError",
     "evalue": "Cannot take a larger sample than population when 'replace=False'",
     "output_type": "error",
     "traceback": [
      "\u001b[1;31m---------------------------------------------------------------------------\u001b[0m",
      "\u001b[1;31mValueError\u001b[0m                                Traceback (most recent call last)",
      "Cell \u001b[1;32mIn[31], line 1\u001b[0m\n\u001b[1;32m----> 1\u001b[0m _obs, _next_obs, _acts, _infos, _rews \u001b[38;5;241m=\u001b[39m \u001b[43mbalance_rollout\u001b[49m\u001b[43m(\u001b[49m\u001b[43mtraj\u001b[49m\u001b[43m)\u001b[49m\n",
      "File \u001b[1;32md:\\code\\dl_helper\\dl_helper\\rl\\custom_imitation_module\\rollout.py:39\u001b[0m, in \u001b[0;36mbalance_rollout\u001b[1;34m(r)\u001b[0m\n\u001b[0;32m     36\u001b[0m pos_buy_indices \u001b[38;5;241m=\u001b[39m np\u001b[38;5;241m.\u001b[39mwhere(cond)[\u001b[38;5;241m0\u001b[39m]\n\u001b[0;32m     37\u001b[0m \u001b[38;5;66;03m# print(f\"持仓买入: {len(pos_buy_indices)} / {len(acts)}\")\u001b[39;00m\n\u001b[0;32m     38\u001b[0m \u001b[38;5;66;03m# 随机 pos_sell_indices 相同的个数\u001b[39;00m\n\u001b[1;32m---> 39\u001b[0m pos_buy_indices \u001b[38;5;241m=\u001b[39m \u001b[43mnp\u001b[49m\u001b[38;5;241;43m.\u001b[39;49m\u001b[43mrandom\u001b[49m\u001b[38;5;241;43m.\u001b[39;49m\u001b[43mchoice\u001b[49m\u001b[43m(\u001b[49m\u001b[43mpos_buy_indices\u001b[49m\u001b[43m,\u001b[49m\u001b[43m \u001b[49m\u001b[43msize\u001b[49m\u001b[38;5;241;43m=\u001b[39;49m\u001b[38;5;28;43mlen\u001b[39;49m\u001b[43m(\u001b[49m\u001b[43mpos_sell_indices\u001b[49m\u001b[43m)\u001b[49m\u001b[43m,\u001b[49m\u001b[43m \u001b[49m\u001b[43mreplace\u001b[49m\u001b[38;5;241;43m=\u001b[39;49m\u001b[38;5;28;43;01mFalse\u001b[39;49;00m\u001b[43m)\u001b[49m \u001b[38;5;28;01mif\u001b[39;00m \u001b[38;5;28mlen\u001b[39m(pos_buy_indices) \u001b[38;5;28;01melse\u001b[39;00m []\n\u001b[0;32m     40\u001b[0m \u001b[38;5;66;03m# print(f\"持仓买入(随机): {len(pos_buy_indices)} / {len(acts)} : {pos_buy_indices}\")\u001b[39;00m\n\u001b[0;32m     41\u001b[0m \n\u001b[0;32m     42\u001b[0m \u001b[38;5;66;03m# 查找 obs[-2](pos) == 0 且 act==ACTION_BUY 的数量\u001b[39;00m\n\u001b[0;32m     43\u001b[0m cond \u001b[38;5;241m=\u001b[39m (obs[:\u001b[38;5;241m-\u001b[39m\u001b[38;5;241m1\u001b[39m, \u001b[38;5;241m-\u001b[39m\u001b[38;5;241m2\u001b[39m] \u001b[38;5;241m==\u001b[39m \u001b[38;5;241m0\u001b[39m) \u001b[38;5;241m&\u001b[39m (acts\u001b[38;5;241m==\u001b[39mACTION_BUY)\n",
      "File \u001b[1;32mnumpy\\\\random\\\\mtrand.pyx:1020\u001b[0m, in \u001b[0;36mnumpy.random.mtrand.RandomState.choice\u001b[1;34m()\u001b[0m\n",
      "\u001b[1;31mValueError\u001b[0m: Cannot take a larger sample than population when 'replace=False'"
     ]
    }
   ],
   "source": [
    "_obs, _next_obs, _acts, _infos, _rews = balance_rollout(traj)"
   ]
  },
  {
   "cell_type": "code",
   "execution_count": 33,
   "metadata": {},
   "outputs": [
    {
     "data": {
      "text/plain": [
       "('20240131', 13004)"
      ]
     },
     "execution_count": 33,
     "metadata": {},
     "output_type": "execute_result"
    }
   ],
   "source": [
    "from dl_helper.rl.rl_env.lob_trade.lob_const import MEAN_SEC_BEFORE_CLOSE, STD_SEC_BEFORE_CLOSE, MAX_SEC_BEFORE_CLOSE\n",
    "from dl_helper.rl.rl_utils import date2days, days2date\n",
    "\n",
    "obs_date = np.float32(12448.0)\n",
    "obs_time = np.float32(0.65676767)\n",
    "init_pos = 1\n",
    "\n",
    "date = days2date(int(obs_date))\n",
    "time = int(obs_time * MAX_SEC_BEFORE_CLOSE)\n",
    "date, time"
   ]
  },
  {
   "cell_type": "code",
   "execution_count": 36,
   "metadata": {},
   "outputs": [
    {
     "name": "stdout",
     "output_type": "stream",
     "text": [
      "1\n"
     ]
    }
   ],
   "source": [
    "acc_status = None\n",
    "debug_init_pos = None\n",
    "print(acc_status or debug_init_pos)"
   ]
  },
  {
   "cell_type": "code",
   "execution_count": 62,
   "metadata": {},
   "outputs": [
    {
     "data": {
      "text/plain": [
       "array([], dtype=int64)"
      ]
     },
     "execution_count": 62,
     "metadata": {},
     "output_type": "execute_result"
    }
   ],
   "source": [
    "a = [1,2,3,4,5]\n",
    "b = []\n",
    "np.random.choice(a, len(b), replace=False)"
   ]
  },
  {
   "cell_type": "code",
   "execution_count": 4,
   "metadata": {},
   "outputs": [
    {
     "name": "stdout",
     "output_type": "stream",
     "text": [
      "样本长度: 8\n"
     ]
    },
    {
     "data": {
      "text/plain": [
       "8"
      ]
     },
     "execution_count": 4,
     "metadata": {},
     "output_type": "execute_result"
    }
   ],
   "source": [
    "from dl_helper.rl.custom_imitation_module.rollout import flatten_trajectories\n",
    "\n",
    "f = rollouts_filter()\n",
    "f.add_rollouts(rollouts[:3])\n",
    "print(f'样本长度: {len(f)}')\n",
    "transitions1 = f.flatten_trajectories()\n",
    "len(transitions1)"
   ]
  },
  {
   "cell_type": "code",
   "execution_count": 5,
   "metadata": {},
   "outputs": [
    {
     "name": "stdout",
     "output_type": "stream",
     "text": [
      "样本长度: 27\n"
     ]
    },
    {
     "data": {
      "text/plain": [
       "27"
      ]
     },
     "execution_count": 5,
     "metadata": {},
     "output_type": "execute_result"
    }
   ],
   "source": [
    "f.add_rollouts(rollouts[3:])\n",
    "print(f'样本长度: {len(f)}')\n",
    "transitions2 = f.flatten_trajectories()\n",
    "len(transitions2)"
   ]
  },
  {
   "cell_type": "code",
   "execution_count": 15,
   "metadata": {},
   "outputs": [
    {
     "name": "stdout",
     "output_type": "stream",
     "text": [
      "模型已保存到: C:\\Users\\lh\\AppData\\Local\\Temp\n"
     ]
    }
   ],
   "source": [
    "import torch\n",
    "import torch.nn as nn\n",
    "from accelerate import Accelerator\n",
    "\n",
    "# 定义一个简单的模型\n",
    "class SimpleModel(nn.Module):\n",
    "    def __init__(self):\n",
    "        super(SimpleModel, self).__init__()\n",
    "        self.linear = nn.Linear(10, 5)\n",
    "\n",
    "    def forward(self, x):\n",
    "        return self.linear(x)\n",
    "\n",
    "# 初始化 Accelerator\n",
    "accelerator = Accelerator()\n",
    "\n",
    "# 创建模型实例\n",
    "model = SimpleModel()\n",
    "\n",
    "# 使用 accelerator 包装模型（例如进行分布式训练准备等）\n",
    "model = accelerator.prepare(model)\n",
    "\n",
    "# 定义保存路径\n",
    "save_directory = r\"C:\\Users\\lh\\AppData\\Local\\Temp\"\n",
    "\n",
    "# 保存模型\n",
    "accelerator.save_model(model, save_directory)\n",
    "\n",
    "print(f\"模型已保存到: {save_directory}\")"
   ]
  },
  {
   "cell_type": "code",
   "execution_count": 16,
   "metadata": {},
   "outputs": [
    {
     "name": "stdout",
     "output_type": "stream",
     "text": [
      "参数名称: linear.weight\n",
      "形状: torch.Size([5, 10])\n",
      "参数数组:\n",
      "tensor([[-0.1692,  0.2634, -0.0119,  0.0594,  0.1869, -0.2154, -0.0707, -0.0629,\n",
      "          0.2025,  0.0373],\n",
      "        [-0.0122, -0.3070, -0.2192, -0.1014, -0.1232,  0.2321,  0.0244,  0.0889,\n",
      "         -0.0517,  0.1914],\n",
      "        [-0.1084,  0.0603,  0.2106,  0.2907, -0.2515,  0.1826,  0.0022, -0.0334,\n",
      "          0.1355, -0.2860],\n",
      "        [-0.2713,  0.2202,  0.0163, -0.0328,  0.0009, -0.3029,  0.0437,  0.0474,\n",
      "          0.0490,  0.2236],\n",
      "        [-0.2497,  0.2830,  0.2816, -0.2233,  0.0338, -0.2304, -0.2827,  0.0455,\n",
      "          0.2351,  0.1232]], device='cuda:0')\n",
      "\n",
      "参数名称: linear.bias\n",
      "形状: torch.Size([5])\n",
      "参数数组:\n",
      "tensor([-0.0439, -0.1881,  0.1267, -0.0751, -0.0531], device='cuda:0')\n",
      "\n"
     ]
    }
   ],
   "source": [
    "for name, param in model.named_parameters():\n",
    "    print(f\"参数名称: {name}\")\n",
    "    print(f\"形状: {param.shape}\")\n",
    "    print(f\"参数数组:\\n{param.data}\\n\")  # .data 可以去掉梯度信息，只看数值"
   ]
  },
  {
   "cell_type": "code",
   "execution_count": null,
   "metadata": {},
   "outputs": [],
   "source": [
    "from safetensors.torch import load_file\n",
    "model = SimpleModel()\n",
    "model.load_state_dict(load_file(r\"C:\\Users\\lh\\AppData\\Local\\Temp\\model.safetensors\"))"
   ]
  },
  {
   "cell_type": "code",
   "execution_count": null,
   "metadata": {},
   "outputs": [],
   "source": []
  },
  {
   "cell_type": "markdown",
   "metadata": {},
   "source": [
    "# 训练机器数量安排"
   ]
  },
  {
   "cell_type": "code",
   "execution_count": 6,
   "metadata": {},
   "outputs": [
    {
     "name": "stdout",
     "output_type": "stream",
     "text": [
      "共 35 个实验\n",
      "需要 17.5 个账户\n"
     ]
    }
   ],
   "source": [
    "vars = []\n",
    "classify_idx = 0\n",
    "for predict_n in [3, 5, 10, 15, 30, 60, 100]:\n",
    "    for label in ['paper', 'paper_pct', 'label_1', 'label_1_pct']:\n",
    "        if label == 'label_1':\n",
    "            # 同一个训练使用 5 个随机种子，最终取均值\n",
    "            for seed in range(5):\n",
    "                vars.append((predict_n, classify_idx, seed))\n",
    "        classify_idx+=1\n",
    "\n",
    "print(f'共 {len(vars)} 个实验') \n",
    "print(f'需要 {len(vars) / 2} 个账户')"
   ]
  },
  {
   "cell_type": "markdown",
   "metadata": {},
   "source": [
    "# TEMP"
   ]
  },
  {
   "cell_type": "code",
   "execution_count": 11,
   "metadata": {},
   "outputs": [
    {
     "name": "stdout",
     "output_type": "stream",
     "text": [
      "0   2024-04-02 08:00:00\n",
      "dtype: datetime64[ns]\n"
     ]
    },
    {
     "data": {
      "text/plain": [
       "'2024-04-02 08:00:00.000000'"
      ]
     },
     "execution_count": 11,
     "metadata": {},
     "output_type": "execute_result"
    }
   ],
   "source": [
    "import pandas as pd\n",
    "import numpy as np\n",
    "from datetime import datetime\n",
    "\n",
    "ts = pd.Series([1712016000])\n",
    "dt = pd.to_datetime(ts, unit='s', origin='1970-01-01 08:00:00')\n",
    "print(dt)\n",
    "\n",
    "datetime.fromtimestamp(1712016000).strftime('%Y-%m-%d %H:%M:%S.%f')"
   ]
  },
  {
   "cell_type": "code",
   "execution_count": 7,
   "metadata": {},
   "outputs": [
    {
     "data": {
      "text/plain": [
       "target\n",
       "1.0    44721\n",
       "0.0      322\n",
       "Name: count, dtype: int64"
      ]
     },
     "execution_count": 7,
     "metadata": {},
     "output_type": "execute_result"
    }
   ],
   "source": [
    "none_pos_df = df.loc[df['has_pos'] == 0]\n",
    "none_pos_df['target'].value_counts()"
   ]
  },
  {
   "cell_type": "code",
   "execution_count": 9,
   "metadata": {},
   "outputs": [
    {
     "data": {
      "text/html": [
       "<div>\n",
       "<style scoped>\n",
       "    .dataframe tbody tr th:only-of-type {\n",
       "        vertical-align: middle;\n",
       "    }\n",
       "\n",
       "    .dataframe tbody tr th {\n",
       "        vertical-align: top;\n",
       "    }\n",
       "\n",
       "    .dataframe thead th {\n",
       "        text-align: right;\n",
       "    }\n",
       "</style>\n",
       "<table border=\"1\" class=\"dataframe\">\n",
       "  <thead>\n",
       "    <tr style=\"text-align: right;\">\n",
       "      <th></th>\n",
       "      <th>timestamp</th>\n",
       "      <th>target</th>\n",
       "      <th>has_pos</th>\n",
       "      <th>0</th>\n",
       "      <th>1</th>\n",
       "    </tr>\n",
       "  </thead>\n",
       "  <tbody>\n",
       "    <tr>\n",
       "      <th>11154</th>\n",
       "      <td>1725948188</td>\n",
       "      <td>0.0</td>\n",
       "      <td>0</td>\n",
       "      <td>9.999992e-01</td>\n",
       "      <td>8.829725e-07</td>\n",
       "    </tr>\n",
       "    <tr>\n",
       "      <th>11156</th>\n",
       "      <td>1725948185</td>\n",
       "      <td>0.0</td>\n",
       "      <td>0</td>\n",
       "      <td>9.842923e-01</td>\n",
       "      <td>1.570775e-02</td>\n",
       "    </tr>\n",
       "    <tr>\n",
       "      <th>11158</th>\n",
       "      <td>1725948182</td>\n",
       "      <td>0.0</td>\n",
       "      <td>0</td>\n",
       "      <td>1.765757e-05</td>\n",
       "      <td>9.999824e-01</td>\n",
       "    </tr>\n",
       "    <tr>\n",
       "      <th>11160</th>\n",
       "      <td>1725948179</td>\n",
       "      <td>0.0</td>\n",
       "      <td>0</td>\n",
       "      <td>6.160673e-11</td>\n",
       "      <td>1.000000e+00</td>\n",
       "    </tr>\n",
       "    <tr>\n",
       "      <th>11162</th>\n",
       "      <td>1725948176</td>\n",
       "      <td>0.0</td>\n",
       "      <td>0</td>\n",
       "      <td>3.675997e-01</td>\n",
       "      <td>6.324003e-01</td>\n",
       "    </tr>\n",
       "    <tr>\n",
       "      <th>...</th>\n",
       "      <td>...</td>\n",
       "      <td>...</td>\n",
       "      <td>...</td>\n",
       "      <td>...</td>\n",
       "      <td>...</td>\n",
       "    </tr>\n",
       "    <tr>\n",
       "      <th>87274</th>\n",
       "      <td>1727145940</td>\n",
       "      <td>0.0</td>\n",
       "      <td>0</td>\n",
       "      <td>9.998832e-01</td>\n",
       "      <td>1.168343e-04</td>\n",
       "    </tr>\n",
       "    <tr>\n",
       "      <th>87630</th>\n",
       "      <td>1727145406</td>\n",
       "      <td>0.0</td>\n",
       "      <td>0</td>\n",
       "      <td>9.999516e-01</td>\n",
       "      <td>4.841568e-05</td>\n",
       "    </tr>\n",
       "    <tr>\n",
       "      <th>87632</th>\n",
       "      <td>1727145403</td>\n",
       "      <td>0.0</td>\n",
       "      <td>0</td>\n",
       "      <td>9.999918e-01</td>\n",
       "      <td>8.228387e-06</td>\n",
       "    </tr>\n",
       "    <tr>\n",
       "      <th>87634</th>\n",
       "      <td>1727145400</td>\n",
       "      <td>0.0</td>\n",
       "      <td>0</td>\n",
       "      <td>9.650101e-02</td>\n",
       "      <td>9.034990e-01</td>\n",
       "    </tr>\n",
       "    <tr>\n",
       "      <th>87636</th>\n",
       "      <td>1727145397</td>\n",
       "      <td>0.0</td>\n",
       "      <td>0</td>\n",
       "      <td>1.599761e-07</td>\n",
       "      <td>9.999999e-01</td>\n",
       "    </tr>\n",
       "  </tbody>\n",
       "</table>\n",
       "<p>322 rows × 5 columns</p>\n",
       "</div>"
      ],
      "text/plain": [
       "        timestamp  target  has_pos             0             1\n",
       "11154  1725948188     0.0        0  9.999992e-01  8.829725e-07\n",
       "11156  1725948185     0.0        0  9.842923e-01  1.570775e-02\n",
       "11158  1725948182     0.0        0  1.765757e-05  9.999824e-01\n",
       "11160  1725948179     0.0        0  6.160673e-11  1.000000e+00\n",
       "11162  1725948176     0.0        0  3.675997e-01  6.324003e-01\n",
       "...           ...     ...      ...           ...           ...\n",
       "87274  1727145940     0.0        0  9.998832e-01  1.168343e-04\n",
       "87630  1727145406     0.0        0  9.999516e-01  4.841568e-05\n",
       "87632  1727145403     0.0        0  9.999918e-01  8.228387e-06\n",
       "87634  1727145400     0.0        0  9.650101e-02  9.034990e-01\n",
       "87636  1727145397     0.0        0  1.599761e-07  9.999999e-01\n",
       "\n",
       "[322 rows x 5 columns]"
      ]
     },
     "execution_count": 9,
     "metadata": {},
     "output_type": "execute_result"
    }
   ],
   "source": [
    "none_pos_df[none_pos_df['target'] == 0]"
   ]
  },
  {
   "cell_type": "code",
   "execution_count": 8,
   "metadata": {},
   "outputs": [
    {
     "data": {
      "text/plain": [
       "target\n",
       "0.0    44434\n",
       "1.0      609\n",
       "Name: count, dtype: int64"
      ]
     },
     "execution_count": 8,
     "metadata": {},
     "output_type": "execute_result"
    }
   ],
   "source": [
    "has_pos_df = df.loc[df['has_pos'] == 1]\n",
    "has_pos_df['target'].value_counts()"
   ]
  },
  {
   "cell_type": "code",
   "execution_count": 21,
   "metadata": {},
   "outputs": [],
   "source": [
    "rank = 2"
   ]
  },
  {
   "cell_type": "code",
   "execution_count": 22,
   "metadata": {},
   "outputs": [
    {
     "data": {
      "text/plain": [
       "(['20240712', '20240715'], ['20241122', '20241125'])"
      ]
     },
     "execution_count": 22,
     "metadata": {},
     "output_type": "execute_result"
    }
   ],
   "source": [
    "max_handle_date_num = 89\n",
    "begin = rank*max_handle_date_num\n",
    "wait_dates = wait_dates_all[max(begin-1, 0): begin+max_handle_date_num]\n",
    "wait_dates[0:2], wait_dates[-2:]"
   ]
  },
  {
   "cell_type": "code",
   "execution_count": null,
   "metadata": {},
   "outputs": [],
   "source": [
    "# 0 标准化日期: 20231016 - 20240301\n",
    "# 1 标准化日期: 20240305 - 20240712 | miss 20240304\n",
    "# 2 标准化日期: 20240716 - 20241125 | miss 20240715"
   ]
  },
  {
   "cell_type": "code",
   "execution_count": null,
   "metadata": {},
   "outputs": [],
   "source": [
    "# 0 标准化日期: 20231016 - 20240301 | \n",
    "# 1 标准化日期: 20240304 - 20240712 | miss 20240304\n",
    "# 2 标准化日期: 20240715 - 20241125 | miss 20240715"
   ]
  },
  {
   "cell_type": "code",
   "execution_count": null,
   "metadata": {},
   "outputs": [],
   "source": []
  }
 ],
 "metadata": {
  "kernelspec": {
   "display_name": "base",
   "language": "python",
   "name": "python3"
  },
  "language_info": {
   "codemirror_mode": {
    "name": "ipython",
    "version": 3
   },
   "file_extension": ".py",
   "mimetype": "text/x-python",
   "name": "python",
   "nbconvert_exporter": "python",
   "pygments_lexer": "ipython3",
   "version": "3.10.16"
  },
  "orig_nbformat": 4
 },
 "nbformat": 4,
 "nbformat_minor": 2
}
