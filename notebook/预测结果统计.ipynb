{
 "cells": [
  {
   "cell_type": "code",
   "execution_count": 5,
   "metadata": {},
   "outputs": [],
   "source": [
    "import os\n",
    "import pandas as pd\n",
    "import numpy as np"
   ]
  },
  {
   "cell_type": "code",
   "execution_count": 6,
   "metadata": {},
   "outputs": [],
   "source": [
    "trade_result_folder = r'D:\\code\\forecast_model\\notebook\\20250811_base'\n",
    "model_type = 'model_final'# model_final, model_dummy\n",
    "code = '159509'\n",
    "# code = 'all'"
   ]
  },
  {
   "cell_type": "code",
   "execution_count": 8,
   "metadata": {},
   "outputs": [
    {
     "name": "stdout",
     "output_type": "stream",
     "text": [
      "-----------159509--------------\n",
      "count    5678.000000\n",
      "mean        0.560877\n",
      "std         0.038914\n",
      "min         0.355307\n",
      "25%         0.572753\n",
      "50%         0.576111\n",
      "75%         0.576117\n",
      "max         0.576117\n",
      "Name: 0, dtype: float64\n",
      "最大阈值: 0.5761168599128723\n",
      "最大阈值数量: 1789(0.08%)\n",
      "-------------------------\n"
     ]
    }
   ],
   "source": [
    "model_folder = os.path.join(trade_result_folder,model_type)\n",
    "files = [i for i in os.listdir(model_folder) if i.endswith('.csv') and len(i) == 32]\n",
    "if code != 'all':\n",
    "    files = [i for i in files if code in i]\n",
    "\n",
    "# 读取数据\n",
    "for file in files:\n",
    "    _code = file.split('_')[0]\n",
    "    data = pd.read_csv(os.path.join(model_folder,file))\n",
    "    data['predict'] = data.loc[:, ['0', '1', '2']].idxmax(axis=1).astype(int)\n",
    "    _max_v = data.loc[data['predict'] == 0, '0'].max()\n",
    "    print(f'-----------{_code}--------------')\n",
    "    print(data.loc[data['predict'] == 0, '0'].describe())\n",
    "    print(f\"最大阈值: {_max_v}\")\n",
    "    print(f\"最大阈值数量: {len(data.loc[(data['predict'] == 0) & (data['0'] >= _max_v)])}({len(data.loc[(data['predict'] == 0) & (data['0'] >= _max_v)]) / len(data):.2f}%)\")\n",
    "    print(f'-------------------------')"
   ]
  },
  {
   "cell_type": "code",
   "execution_count": 23,
   "metadata": {},
   "outputs": [
    {
     "data": {
      "text/plain": [
       "'D:/code/forecast_model/notebook/20240919_test_label_threshold/10y_4_5_strict_predict_n100_label_idx0_T4x2_fp16/model_dummy/159941_1724895312_1725604794.csv'"
      ]
     },
     "execution_count": 23,
     "metadata": {},
     "output_type": "execute_result"
    },
    {
     "ename": "",
     "evalue": "",
     "output_type": "error",
     "traceback": [
      "\u001b[1;31m在当前单元格或上一个单元格中执行代码时 Kernel 崩溃。请查看单元格中的代码，以确定故障的可能原因。有关详细信息，请单击 <a href='https://aka.ms/vscodeJupyterKernelCrash'>此处</a>。有关更多详细信息，请查看 Jupyter <a href='command:jupyter.viewOutput'>log</a>。"
     ]
    }
   ],
   "source": [
    "r\"D:\\code\\forecast_model\\notebook\\20240919_test_label_threshold\\10y_4_5_strict_predict_n100_label_idx0_T4x2_fp16\\model_dummy\\159941_1724895312_1725604794.csv\".replace('\\\\','/')"
   ]
  },
  {
   "cell_type": "code",
   "execution_count": 22,
   "metadata": {},
   "outputs": [
    {
     "data": {
      "text/plain": [
       "3.6529480107981883e-38"
      ]
     },
     "execution_count": 22,
     "metadata": {},
     "output_type": "execute_result"
    }
   ],
   "source": [
    "(33.975748550000361 / 268.94630999999629) ** (1 / (0.024))"
   ]
  }
 ],
 "metadata": {
  "kernelspec": {
   "display_name": "base",
   "language": "python",
   "name": "python3"
  },
  "language_info": {
   "codemirror_mode": {
    "name": "ipython",
    "version": 3
   },
   "file_extension": ".py",
   "mimetype": "text/x-python",
   "name": "python",
   "nbconvert_exporter": "python",
   "pygments_lexer": "ipython3",
   "version": "3.11.3"
  },
  "orig_nbformat": 4
 },
 "nbformat": 4,
 "nbformat_minor": 2
}
