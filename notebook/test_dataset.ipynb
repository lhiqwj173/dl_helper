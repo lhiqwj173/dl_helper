{
 "cells": [
  {
   "cell_type": "code",
   "execution_count": 1,
   "metadata": {},
   "outputs": [
    {
     "name": "stdout",
     "output_type": "stream",
     "text": [
      "159941 空仓使用样本数量: 0\n",
      "159941 持仓使用样本数量: 40\n",
      "159941 样本总数: 40\n",
      "513060 空仓使用样本数量: 22\n",
      "513060 持仓使用样本数量: 58\n",
      "513060 样本总数: 80\n",
      "513180 空仓使用样本数量: 128\n",
      "513180 持仓使用样本数量: 118\n",
      "513180 样本总数: 246\n",
      "513330 空仓使用样本数量: 22\n",
      "513330 持仓使用样本数量: 60\n",
      "513330 样本总数: 82\n",
      "[train] 样本数量: 448\n",
      "训练样本数量: 448\n"
     ]
    },
    {
     "data": {
      "text/plain": [
       "(array([ 6.3907748e-01,  3.0338943e-01,  4.9655718e-01,  1.8467782e-01,\n",
       "         6.3907748e-01,  3.8333428e-01,  4.9655718e-01,  1.9739214e-01,\n",
       "         6.3907748e-01,  3.3972171e-01,  4.9655718e-01,  5.7886343e-02,\n",
       "         4.9655718e-01,  9.2489630e-02,  3.5403687e-01,  8.1047583e-01,\n",
       "         4.9655718e-01,  3.2489952e-01,  3.5403687e-01,  8.0732548e-01,\n",
       "         4.9655718e-01, -1.6096984e-01,  3.5403687e-01,  7.7891612e-01,\n",
       "         4.9655718e-01, -1.2439682e-01,  3.5403687e-01,  7.8436691e-01,\n",
       "         6.3907748e-01,  5.8983827e-01,  4.9655718e-01, -1.5871543e-01,\n",
       "         6.3907748e-01,  6.4759696e-01,  4.9655718e-01, -5.3120881e-01,\n",
       "         4.9655718e-01, -5.5779505e-01,  3.5403687e-01,  8.6562419e-01,\n",
       "         0.0000000e+00,  9.7838384e-01,  0.0000000e+00,  1.2401000e+04],\n",
       "       dtype=float32),\n",
       " np.float32(0.0))"
      ]
     },
     "execution_count": 1,
     "metadata": {},
     "output_type": "execute_result"
    }
   ],
   "source": [
    "from dl_helper.rl.custom_imitation_module.dataset import LobTrajectoryDataset\n",
    "\n",
    "data_config = {\n",
    "    'his_len': 10,# 每个样本的 历史数据长度\n",
    "    'need_cols': [item for i in range(1) for item in [f'BASE卖{i+1}价', f'BASE卖{i+1}量', f'BASE买{i+1}价', f'BASE买{i+1}量']],\n",
    "}\n",
    "\n",
    "data_dict_folder = r'D:\\L2_DATA_T0_ETF\\train_data\\RAW\\BC_train_data_20250810\\data_dict'\n",
    "dataset = LobTrajectoryDataset(data_folder= data_dict_folder, data_config = data_config)\n",
    "print(f'训练样本数量: {len(dataset)}')\n",
    "dataset[0]"
   ]
  },
  {
   "cell_type": "code",
   "execution_count": 2,
   "metadata": {},
   "outputs": [
    {
     "name": "stdout",
     "output_type": "stream",
     "text": [
      "[val] 样本数量: 35710\n",
      "验证集样本数量: 35710\n"
     ]
    },
    {
     "data": {
      "text/plain": [
       "(array([ 7.8160632e-01,  2.4426597e-01,  6.3907748e-01,  6.3885766e-01,\n",
       "         7.8160632e-01, -1.5606748e-01,  6.3907748e-01,  6.1887777e-01,\n",
       "         7.8160632e-01, -1.3535701e-01,  6.3907748e-01,  6.2049788e-01,\n",
       "         7.8160632e-01, -1.2918614e-01,  6.3907748e-01,  5.9981465e-01,\n",
       "         7.8160632e-01, -5.5973127e-02,  6.3907748e-01,  5.8912241e-01,\n",
       "         7.8160632e-01, -1.8334653e-02,  6.3907748e-01,  5.8110529e-01,\n",
       "         7.8160632e-01,  5.4321772e-01,  6.3907748e-01,  5.9356213e-01,\n",
       "         7.8160632e-01,  5.4378080e-01,  6.3907748e-01,  8.3645499e-01,\n",
       "         7.8160632e-01,  6.2877035e-01,  6.3907748e-01,  8.2431626e-01,\n",
       "         7.8160632e-01,  6.7482996e-01,  6.3907748e-01,  7.9288846e-01,\n",
       "         0.0000000e+00,  9.8368686e-01,  0.0000000e+00,  1.2401000e+04],\n",
       "       dtype=float32),\n",
       " np.float32(1.0))"
      ]
     },
     "execution_count": 2,
     "metadata": {},
     "output_type": "execute_result"
    }
   ],
   "source": [
    "val_dataset = LobTrajectoryDataset(data_folder= data_dict_folder, data_config = data_config, data_type='val')\n",
    "print(f'验证集样本数量: {len(val_dataset)}')\n",
    "val_dataset[0]"
   ]
  },
  {
   "cell_type": "code",
   "execution_count": 3,
   "metadata": {},
   "outputs": [
    {
     "name": "stdout",
     "output_type": "stream",
     "text": [
      "[test] 样本数量: 35710\n",
      "验证集样本数量: 35710\n"
     ]
    },
    {
     "data": {
      "text/plain": [
       "(array([ 7.8160632e-01,  2.4426597e-01,  6.3907748e-01,  6.3885766e-01,\n",
       "         7.8160632e-01, -1.5606748e-01,  6.3907748e-01,  6.1887777e-01,\n",
       "         7.8160632e-01, -1.3535701e-01,  6.3907748e-01,  6.2049788e-01,\n",
       "         7.8160632e-01, -1.2918614e-01,  6.3907748e-01,  5.9981465e-01,\n",
       "         7.8160632e-01, -5.5973127e-02,  6.3907748e-01,  5.8912241e-01,\n",
       "         7.8160632e-01, -1.8334653e-02,  6.3907748e-01,  5.8110529e-01,\n",
       "         7.8160632e-01,  5.4321772e-01,  6.3907748e-01,  5.9356213e-01,\n",
       "         7.8160632e-01,  5.4378080e-01,  6.3907748e-01,  8.3645499e-01,\n",
       "         7.8160632e-01,  6.2877035e-01,  6.3907748e-01,  8.2431626e-01,\n",
       "         7.8160632e-01,  6.7482996e-01,  6.3907748e-01,  7.9288846e-01,\n",
       "         0.0000000e+00,  9.8368686e-01,  0.0000000e+00,  1.2401000e+04],\n",
       "       dtype=float32),\n",
       " np.float32(1.0))"
      ]
     },
     "execution_count": 3,
     "metadata": {},
     "output_type": "execute_result"
    }
   ],
   "source": [
    "val_dataset = LobTrajectoryDataset(data_folder= data_dict_folder, data_config = data_config, data_type='test')\n",
    "print(f'验证集样本数量: {len(val_dataset)}')\n",
    "val_dataset[0]"
   ]
  },
  {
   "cell_type": "code",
   "execution_count": null,
   "metadata": {},
   "outputs": [],
   "source": []
  },
  {
   "cell_type": "code",
   "execution_count": null,
   "metadata": {},
   "outputs": [],
   "source": []
  },
  {
   "cell_type": "code",
   "execution_count": 1,
   "metadata": {},
   "outputs": [
    {
     "name": "stdout",
     "output_type": "stream",
     "text": [
      "20231225\n",
      "159934 obs (6, 4)\n",
      "159934 acts (8194,)\n",
      "159937 obs (6, 4)\n",
      "159937 acts (5996,)\n",
      "518800 obs (6, 4)\n",
      "518800 acts (5340,)\n",
      "518880 obs (6, 4)\n",
      "518880 acts (8520,)\n",
      "['159934', '159937', '518800', '518880']\n"
     ]
    }
   ],
   "source": [
    "import pickle\n",
    "\n",
    "date = '20231225'\n",
    "print(date)\n",
    "\n",
    "file = rf'D:\\\\L2_DATA_T0_ETF\\\\train_data\\\\RAW\\\\BC_train_data_20250729\\\\data_dict\\\\{date}.pkl'\n",
    "data_dict = pickle.load(open(file, 'rb'))\n",
    "symbol = []\n",
    "for k, v in data_dict.items():\n",
    "    symbol.append(k)\n",
    "    for k2, v2 in v.items():\n",
    "        print(f'{k} {k2} {v2.shape}')\n",
    "\n",
    "print(symbol)"
   ]
  },
  {
   "cell_type": "code",
   "execution_count": 2,
   "metadata": {},
   "outputs": [
    {
     "data": {
      "text/plain": [
       "(14029, 14029, 14029)"
      ]
     },
     "execution_count": 2,
     "metadata": {},
     "output_type": "execute_result"
    }
   ],
   "source": [
    "train_data_folder = r'D:\\\\L2_DATA_T0_ETF\\\\train_data\\\\RAW\\\\BC_train_data_20250729\\\\train_data'\n",
    "file2 = rf'{train_data_folder}\\\\{date}.pkl'\n",
    "ids, mean_std, x, all_raw_data = pickle.load(open(file2, 'rb'))\n",
    "len(ids), len(mean_std), len(x)"
   ]
  },
  {
   "cell_type": "code",
   "execution_count": 3,
   "metadata": {},
   "outputs": [
    {
     "name": "stdout",
     "output_type": "stream",
     "text": [
      "159934 train_data 长度: 8196\n",
      "159937 train_data 长度: 5998\n",
      "518800 train_data 长度: 5342\n",
      "518880 train_data 长度: 8522\n"
     ]
    }
   ],
   "source": [
    "for code in symbol:\n",
    "    code_ids = [i for i, _id in enumerate(ids) if _id.startswith(code)]\n",
    "    print(f'{code} train_data 长度:', len(code_ids) * 2)"
   ]
  },
  {
   "cell_type": "code",
   "execution_count": null,
   "metadata": {},
   "outputs": [
    {
     "name": "stdout",
     "output_type": "stream",
     "text": [
      "2025-08-06 09:37:48 | lob_env.py:__init__:1493 - [1011805360] init logger: C:\\Users\\lh\\logs\\temp_20250806.log\n",
      "2025-08-06 09:37:48 | lob_env.py:__init__:124 - [train] debug_date: ['20231225']\n",
      "2025-08-06 09:37:48 | lob_env.py:__init__:177 - [train] data_producer init done\n",
      "2025-08-06 09:37:48 | lob_env.py:__init__:1553 - [1011805360][train] init env done\n",
      "2025-08-06 09:37:48 | lob_env.py:reset:1863 - [1011805360][train] reset\n",
      "2025-08-06 09:37:48 | lob_env.py:_pre_files:259 - [train] prepare files: ['20231225.pkl']\n",
      "2025-08-06 09:37:48 | lob_env.py:_load_data:278 - [train] load date file: 20231225.pkl\n",
      "2025-08-06 09:37:49 | lob_env.py:_load_data:366 - [train] init idxs: [[np.int64(0), np.int64(4097), 2], [np.int64(4098), np.int64(7096), 1], [np.int64(7097), np.int64(9767), 3], [np.int64(9768), np.int64(14028), 0]]\n",
      "2025-08-06 09:37:49 | lob_env.py:reset:1888 - acc reset: 0\n",
      "(np.float32(2.0), '159934')\n",
      "2025-08-06 09:37:50 | lob_env.py:step:1741 - [1011805360][train] total sample: 500\n",
      "2025-08-06 09:37:52 | lob_env.py:step:1741 - [1011805360][train] total sample: 1000\n",
      "2025-08-06 09:37:53 | lob_env.py:step:1741 - [1011805360][train] total sample: 1500\n",
      "2025-08-06 09:37:54 | lob_env.py:step:1741 - [1011805360][train] total sample: 2000\n",
      "2025-08-06 09:37:56 | lob_env.py:step:1741 - [1011805360][train] total sample: 2500\n",
      "2025-08-06 09:37:58 | lob_env.py:step:1741 - [1011805360][train] total sample: 3000\n",
      "2025-08-06 09:37:59 | lob_env.py:step:1741 - [1011805360][train] total sample: 3500\n",
      "2025-08-06 09:38:01 | lob_env.py:step:1741 - [1011805360][train] total sample: 4000\n",
      "2025-08-06 09:38:01 | lob_env.py:get:532 - [train] need_close 4097 4097\n",
      "2025-08-06 09:38:01 | lob_env.py:get:536 - [train] idxs: [[np.int64(4098), np.int64(7096), 1], [np.int64(7097), np.int64(9767), 3], [np.int64(9768), np.int64(14028), 0]]\n",
      "2025-08-06 09:38:01 | lob_env.py:step:1822 - [1011805360][train] episode 1 done, mean episode length: 4097.0, latest episode length: 4097, reward: 0.0\n",
      "标的 159934 当天样本数量: 8194\n",
      "2025-08-06 09:39:31 | lob_env.py:reset:1863 - [1011805360][train] reset\n",
      "2025-08-06 09:39:31 | lob_env.py:_pre_files:259 - [train] prepare files: ['20231225.pkl']\n",
      "2025-08-06 09:39:31 | lob_env.py:reset:1888 - acc reset: 0\n",
      "(np.float32(1.0), '159937')\n",
      "2025-08-06 09:39:32 | lob_env.py:step:1741 - [1011805360][train] total sample: 4500\n",
      "2025-08-06 09:39:33 | lob_env.py:step:1741 - [1011805360][train] total sample: 5000\n"
     ]
    }
   ],
   "source": [
    "from dl_helper.rl.rl_env.lob_trade.lob_env import LOB_trade_env\n",
    "from dl_helper.rl.rl_utils import date2days, days2date\n",
    "from dl_helper.rl.rl_env.lob_trade.lob_expert import LobExpert_file\n",
    "from dl_helper.rl.rl_env.lob_trade.lob_const import USE_CODES, STD_REWARD\n",
    "\n",
    "import numpy as np\n",
    "\n",
    "need_pos_0 = True\n",
    "need_pos_1 = True\n",
    "\n",
    "his_len = 50\n",
    "data_config = {\n",
    "    # 此处的参数不重要 \n",
    "    'his_len': his_len,# 每个样本的 历史数据长度\n",
    "    # 此处的参数不重要 \n",
    "    'need_cols': [item for i in range(1) for item in [f'BASE卖{i+1}价', f'BASE卖{i+1}量', f'BASE买{i+1}价', f'BASE买{i+1}量']],\n",
    "}\n",
    "env = LOB_trade_env(\n",
    "    config={\n",
    "        'his_len': data_config['his_len'],\n",
    "        'need_cols': data_config['need_cols'],\n",
    "        'use_symbols': symbol,\n",
    "        'random_begin_in_day': False,\n",
    "        'train_folder': r'C:\\Users\\lh\\Desktop\\temp\\lob_env',\n",
    "        'train_title': 'temp',\n",
    "    },\n",
    "    debug_obs_date=date2days(date),\n",
    "    debug_init_pos=0,\n",
    "    data_folder=train_data_folder,\n",
    ")\n",
    "\n",
    "data_dict = {}\n",
    "wait_symbol = symbol.copy()\n",
    "while wait_symbol:\n",
    "    # expert = LobExpert_file(data_folder=train_data_folder, logout=False)\n",
    "    \n",
    "    obss = []\n",
    "    obs, info = env.reset()\n",
    "\n",
    "    _symbol_str = USE_CODES[int(obs[-4])]\n",
    "    print((obs[-4], _symbol_str))\n",
    "    if _symbol_str in wait_symbol:\n",
    "        wait_symbol.remove(_symbol_str)\n",
    "    else:\n",
    "        # 说明当天的数据遍历完成\n",
    "        print(f'{date} 当天数据遍历完成')\n",
    "        break\n",
    "\n",
    "    done = False\n",
    "    while not done:\n",
    "        obss.append(obs[-4:].copy())\n",
    "        obs, reward, terminated, truncated, info = env.step(1)\n",
    "        done = terminated or truncated\n",
    "\n",
    "    single_obs_num = len(obss)\n",
    "    print(f'标的 {_symbol_str} 当天样本数量: {single_obs_num * 2}', flush=True)\n",
    "\n",
    "    # 构造 obs - 使用更高效的方式\n",
    "    no_pos = np.array(obss) # pos == 0 的部分\n",
    "    has_pos = no_pos.copy()  # pos == 1 的部分\n",
    "    has_pos[:, -2] = 1\n",
    "\n",
    "    del obss\n",
    "\n",
    "    done_obs = []\n",
    "    done_acts = []\n",
    "    # balance_del_idx = []\n",
    "\n",
    "    parts_list = []\n",
    "    if need_pos_0:\n",
    "        parts_list.append(no_pos)\n",
    "    if need_pos_1:\n",
    "        parts_list.append(has_pos)\n",
    "    if _symbol_str not in data_dict:\n",
    "        data_dict[_symbol_str] = {}\n",
    "    for obs in parts_list:\n",
    "        # 构造 acts\n",
    "        acts = np.zeros(single_obs_num, dtype=np.int8)# 等待专家填充\n",
    "        for i in range(single_obs_num):\n",
    "            _obs = obs[i]\n",
    "            # _act = expert.get_action(_obs)\n",
    "            _act = 0\n",
    "            acts[i] = _act\n",
    "\n",
    "        # 添加 原始全样本 到完成列表\n",
    "        done_obs.append(obs[:, -3:])\n",
    "        done_acts.append(acts)\n",
    "\n",
    "    # 合并数据\n",
    "    data_dict[_symbol_str]['obs'] = np.concatenate(done_obs)\n",
    "    data_dict[_symbol_str]['acts'] = np.concatenate(done_acts)\n",
    "    # data_dict[_symbol_str]['balance_del_idx'] = np.concatenate(balance_del_idx)"
   ]
  },
  {
   "cell_type": "code",
   "execution_count": null,
   "metadata": {},
   "outputs": [],
   "source": []
  },
  {
   "cell_type": "code",
   "execution_count": null,
   "metadata": {},
   "outputs": [],
   "source": []
  },
  {
   "cell_type": "code",
   "execution_count": null,
   "metadata": {},
   "outputs": [],
   "source": []
  }
 ],
 "metadata": {
  "kernelspec": {
   "display_name": "base",
   "language": "python",
   "name": "python3"
  },
  "language_info": {
   "codemirror_mode": {
    "name": "ipython",
    "version": 3
   },
   "file_extension": ".py",
   "mimetype": "text/x-python",
   "name": "python",
   "nbconvert_exporter": "python",
   "pygments_lexer": "ipython3",
   "version": "3.10.16"
  }
 },
 "nbformat": 4,
 "nbformat_minor": 2
}
