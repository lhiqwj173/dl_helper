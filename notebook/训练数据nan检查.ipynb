{
 "cells": [
  {
   "cell_type": "markdown",
   "metadata": {},
   "source": [
    "# 训练数据nan检查"
   ]
  },
  {
   "cell_type": "code",
   "execution_count": null,
   "metadata": {},
   "outputs": [
    {
     "data": {
      "text/plain": [
       "m_bin_ctabl(\n",
       "  (BiN): BiN()\n",
       "  (BL): BL_layer(\n",
       "    (activation): ReLU()\n",
       "  )\n",
       "  (BL2): BL_layer(\n",
       "    (activation): ReLU()\n",
       "  )\n",
       "  (TABL): TABL_layer(\n",
       "    (activation): ReLU()\n",
       "  )\n",
       "  (dropout): Dropout(p=0.1, inplace=False)\n",
       ")"
      ]
     },
     "metadata": {},
     "output_type": "display_data"
    }
   ],
   "source": [
    "nan_id = '518880_1699323787'\n",
    "train_folder = r'D:\\L2_DATA_T0_ETF\\train_data\\lable_1_combine_data'\n",
    "\n",
    "from dl_helper.models.binctabl import m_bin_ctabl\n",
    "t1, t2, t3, t4 = [100, 30, 10, 1]\n",
    "d1, d2, d3, d4 = [20, 20, 10, 3]\n",
    "model = m_bin_ctabl(d2, d1, t1, t2, d3, t3, d4, t4)\n",
    "model"
   ]
  },
  {
   "cell_type": "code",
   "execution_count": null,
   "metadata": {},
   "outputs": [],
   "source": [
    "import pickle\n",
    "import os, torch, datetime\n",
    "\n",
    "import pandas as pd\n",
    "import numpy as np"
   ]
  },
  {
   "cell_type": "code",
   "execution_count": null,
   "metadata": {},
   "outputs": [
    {
     "name": "stdout",
     "output_type": "stream",
     "text": [
      "nan_date: 20231107\n",
      "nan_file: D:\\L2_DATA_T0_ETF\\train_data\\lable_1_combine_data\\train\\20231107.pkl\n",
      "样本数量: 8007\n",
      "idx: 5129\n",
      "torch.Size([1, 105, 153]) torch.Size([1, 28]) torch.Size([1, 151, 2])\n"
     ]
    }
   ],
   "source": [
    "nan_date =  datetime.datetime.fromtimestamp(int(nan_id.split('_')[1])).strftime('%Y%m%d')\n",
    "print(f'nan_date: {nan_date}')\n",
    "nan_file = f'{nan_date}.pkl'\n",
    "\n",
    "# 递归 train_folder ，获得 20231107.pkl 文件路径\n",
    "train_file = ''\n",
    "for root, dirs, files in os.walk(train_folder):\n",
    "    if nan_file in files:\n",
    "        train_file = os.path.join(root, nan_file)\n",
    "        break\n",
    "\n",
    "print(f'nan_file: {train_file}')\n",
    "\n",
    "# 读取文件\n",
    "_ids,_mean_std, _x, _y, _raw = pickle.load(open(train_file, 'rb'))\n",
    "print(f'样本数量: {len(_ids)}')\n",
    "\n",
    "# 检查 _raw 是否包含 NaN 或 Inf\n",
    "nan_indices = _raw.index[_raw.isna().any(axis=1)].tolist()\n",
    "inf_indices = _raw.index[np.isinf(_raw.values).any(axis=1)].tolist()\n",
    "if nan_indices:\n",
    "    print(\"raw文件包含NaN值的行:\\n\", _raw.iloc[nan_indices])\n",
    "if inf_indices:\n",
    "    print(\"raw文件包含Inf值的行:\\n\", _raw.iloc[inf_indices])\n",
    "\n",
    "idx = _ids.index(nan_id)\n",
    "print(f'idx: {idx}')\n",
    "\n",
    "# x, y, mm = batch\n",
    "a, b = _x[idx]\n",
    "x = torch.from_numpy(_raw.iloc[a:b, :].values).unsqueeze(0).float()\n",
    "y = torch.tensor(_y[idx]).unsqueeze(0).float()\n",
    "mm = torch.tensor(_mean_std[idx]).unsqueeze(0).float()\n",
    "\n",
    "print(x.shape, y.shape, mm.shape)"
   ]
  },
  {
   "cell_type": "code",
   "execution_count": null,
   "metadata": {},
   "outputs": [
    {
     "data": {
      "text/plain": [
       "(tensor(False), tensor(False))"
      ]
     },
     "metadata": {},
     "output_type": "display_data"
    }
   ],
   "source": [
    "torch.isnan(x).any(), torch.isinf(x).any()"
   ]
  },
  {
   "cell_type": "code",
   "execution_count": null,
   "metadata": {},
   "outputs": [],
   "source": [
    "# 数据预处理的代码\n",
    "x = x[:, -100:, :20]\n",
    "x = torch.transpose(x, 1, 2)\n",
    "\n",
    "# 归一化\n",
    "x -= mm[:, :20, :1]\n",
    "x /= (mm[:, :20, 1:] -  mm[:, :20, :1])"
   ]
  },
  {
   "cell_type": "code",
   "execution_count": null,
   "metadata": {},
   "outputs": [],
   "source": [
    "out = model(x)"
   ]
  },
  {
   "cell_type": "code",
   "execution_count": null,
   "metadata": {},
   "outputs": [
    {
     "data": {
      "text/plain": [
       "(tensor(True), tensor(False))"
      ]
     },
     "metadata": {},
     "output_type": "display_data"
    }
   ],
   "source": [
    "torch.isnan(out).any(), torch.isinf(out).any()"
   ]
  },
  {
   "cell_type": "code",
   "execution_count": null,
   "metadata": {},
   "outputs": [],
   "source": []
  }
 ],
 "metadata": {
  "language_info": {
   "name": "python"
  },
  "orig_nbformat": 4
 },
 "nbformat": 4,
 "nbformat_minor": 2
}
