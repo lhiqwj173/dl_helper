{
 "cells": [
  {
   "cell_type": "code",
   "execution_count": 2,
   "metadata": {},
   "outputs": [],
   "source": [
    "import pickle, os"
   ]
  },
  {
   "cell_type": "code",
   "execution_count": 5,
   "metadata": {},
   "outputs": [],
   "source": [
    "std_false_file = r\"C:\\Users\\lh\\Downloads\\first_batch_stdFalse.pkl\"\n",
    "std_true_file = r\"C:\\Users\\lh\\Downloads\\first_batch_stdTrue.pkl\""
   ]
  },
  {
   "cell_type": "markdown",
   "metadata": {},
   "source": [
    "检查是否标准化"
   ]
  },
  {
   "cell_type": "code",
   "execution_count": 10,
   "metadata": {},
   "outputs": [],
   "source": [
    "x_false, y_false, std = pickle.load(open(std_false_file, 'rb'))\n",
    "x_true, y_true = pickle.load(open(std_true_file, 'rb'))"
   ]
  },
  {
   "cell_type": "code",
   "execution_count": 9,
   "metadata": {},
   "outputs": [
    {
     "data": {
      "text/plain": [
       "tensor(True)"
      ]
     },
     "execution_count": 9,
     "metadata": {},
     "output_type": "execute_result"
    }
   ],
   "source": [
    "(y_false == y_true).all()"
   ]
  },
  {
   "cell_type": "code",
   "execution_count": 20,
   "metadata": {},
   "outputs": [
    {
     "data": {
      "text/plain": [
       "tensor(True)"
      ]
     },
     "execution_count": 20,
     "metadata": {},
     "output_type": "execute_result"
    }
   ],
   "source": [
    "_x = x_false[0][:650].reshape([50, 650 // 50])\n",
    "((_x - std[0][:, 0]) / std[0][:, 1] == x_true[0][:650].reshape([50, 650 // 50])).all()"
   ]
  },
  {
   "cell_type": "code",
   "execution_count": 127,
   "metadata": {},
   "outputs": [
    {
     "data": {
      "text/plain": [
       "(tensor([9.0000e+00, 3.2980e-02, 0.0000e+00, 1.2840e+04]),\n",
       " tensor([9.0000e+00, 3.2980e-02, 0.0000e+00, 1.2840e+04]))"
      ]
     },
     "execution_count": 127,
     "metadata": {},
     "output_type": "execute_result"
    }
   ],
   "source": [
    "x_false[0][-4:], x_true[0][-4:]"
   ]
  },
  {
   "cell_type": "markdown",
   "metadata": {},
   "source": [
    "可视化"
   ]
  },
  {
   "cell_type": "code",
   "execution_count": 99,
   "metadata": {},
   "outputs": [],
   "source": [
    "sample_idx = 0"
   ]
  },
  {
   "cell_type": "code",
   "execution_count": 138,
   "metadata": {},
   "outputs": [
    {
     "name": "stdout",
     "output_type": "stream",
     "text": [
      "样本索引: 35\n",
      "513120(8) 当前: 空仓 2024-01-17 14:09:23\n",
      "D:\\L2_DATA_T0_ETF\\his_data\\20240117\\513120\\十档盘口.csv\n",
      "样本索引: 1705471763\n",
      "样本索引: 4135 - 4185\n",
      "样本时间: 2024-01-17 14:06:56 - 2024-01-17 14:09:23\n",
      "标签:空仓\n"
     ]
    },
    {
     "data": {
      "image/png": "[encoded data removed]",
      "text/plain": [
       "<Figure size 1500x300 with 1 Axes>"
      ]
     },
     "metadata": {},
     "output_type": "display_data"
    }
   ],
   "source": [
    "# 解析数据归属\n",
    "from dl_helper.rl.rl_utils import date2days, days2date\n",
    "from dl_helper.rl.rl_env.lob_trade.lob_const import USE_CODES, MAX_SEC_BEFORE_CLOSE\n",
    "from datetime import datetime, timedelta\n",
    "import pandas as pd\n",
    "import numpy as np\n",
    "import matplotlib.pyplot as plt\n",
    "\n",
    "# sample_idx = 32\n",
    "print(f'样本索引: {sample_idx}')\n",
    "\n",
    "_sample_date = days2date(int(x_false[sample_idx][-1]))\n",
    "_sample_pos = int(x_false[sample_idx][-2])\n",
    "_sample_sec = x_false[sample_idx][-3] * MAX_SEC_BEFORE_CLOSE\n",
    "close_dt = datetime.strptime(f'{_sample_date} 15:00:00', '%Y%m%d %H:%M:%S')\n",
    "_sample_dt = close_dt - timedelta(seconds=int(_sample_sec))\n",
    "_sample_symbol_id = int(x_false[sample_idx][-4])\n",
    "_sample_synbol = USE_CODES[_sample_symbol_id]\n",
    "_sample_y = y_false[sample_idx]\n",
    "\n",
    "_sample_synbol, _sample_date, _sample_pos, _sample_dt\n",
    "print(f'{_sample_synbol}({int(_sample_symbol_id)}) 当前: '+ (f'持仓' if _sample_pos==1 else '空仓') + f' {_sample_dt}')\n",
    "\n",
    "# 读取原始数据\n",
    "lob_file = rf\"D:\\L2_DATA_T0_ETF\\his_data\\{_sample_date}\\{_sample_synbol}\\十档盘口.csv\"\n",
    "print(lob_file)\n",
    "_data = pd.read_csv(lob_file, encoding='gbk')\n",
    "# 删除完全重复的行\n",
    "_data = _data.drop_duplicates(keep='first')\n",
    "_data = _data[['时间', '卖1价', '买1价']]\n",
    "\n",
    "# 匹配样本 时点\n",
    "idx = 0\n",
    "# 2. 显式标记为北京时间（UTC+8）\n",
    "dt = pd.to_datetime(_data['时间'])\n",
    "dt = dt.dt.tz_localize('Asia/Shanghai')  # 北京时间\n",
    "ts = dt.apply(lambda x: int(x.timestamp()))\n",
    "_sample_ts = int(_sample_dt.timestamp())\n",
    "print(f'样本索引: {_sample_ts}')\n",
    "for _idx, _t in enumerate(ts):\n",
    "    if _t >= _sample_ts:\n",
    "        if _t == _sample_ts:\n",
    "            # 完美匹配\n",
    "            idx = _idx\n",
    "        else:\n",
    "            # 使用距离最近的点\n",
    "            _pre_ts = ts[_idx-1]\n",
    "            _cur_ts = _t\n",
    "            if abs(int(_pre_ts) - int(_sample_ts)) > abs(int(_cur_ts) - int(_sample_ts)):\n",
    "                idx = _idx\n",
    "            else:\n",
    "                idx = _idx - 1\n",
    "        break\n",
    "\n",
    "_data.columns = ['time', 'ask', 'bid']\n",
    "\n",
    "i_begin, i_end = idx-50+1, idx+1\n",
    "\n",
    "print(f'样本索引: {i_begin} - {i_end}')\n",
    "data_range = _data.iloc[i_begin: i_end]\n",
    "print(f'样本时间: {data_range[\"time\"].iloc[0]} - {data_range[\"time\"].iloc[-1]}')\n",
    "\n",
    "ext_len = 60\n",
    "ext_begin, ext_end = i_begin-ext_len, i_end+ext_len\n",
    "ext_data = _data.iloc[ext_begin: ext_end]\n",
    "\n",
    "print('标签:' + (f'持仓' if _sample_y==0 else '空仓'))\n",
    "\n",
    "# 构造样本的数据\n",
    "s_ask = ext_data['ask'].copy().values\n",
    "s_bid = ext_data['bid'].copy().values\n",
    "_x = x_false[sample_idx][:650].reshape([50, 650 // 50])\n",
    "s_len = _x.shape[0]\n",
    "s_ask[:ext_len] = np.nan\n",
    "s_bid[:ext_len] = np.nan\n",
    "s_ask[-ext_len:] = np.nan\n",
    "s_bid[-ext_len:] = np.nan\n",
    "s_ask[ext_len: -ext_len] = np.asarray(_x[:, 0])\n",
    "s_bid[ext_len: -ext_len] = np.asarray(_x[:, 2])\n",
    "\n",
    "fig, ax = plt.subplots(figsize=(15, 3))\n",
    "plt.plot(ext_data.index, ext_data['ask'], label='Ask', color='green')\n",
    "plt.plot(ext_data.index, s_ask+0.001, label='sAsk', color='green')\n",
    "plt.plot(ext_data.index, ext_data['bid'], label='Bid', color='red')\n",
    "plt.plot(ext_data.index, s_bid-0.001, label='sBid', color='red')\n",
    "plt.axvspan(i_begin, i_end - 1, color='red', alpha=0.3)\n",
    "\n",
    "sample_idx += 1"
   ]
  },
  {
   "cell_type": "code",
   "execution_count": null,
   "metadata": {},
   "outputs": [],
   "source": []
  },
  {
   "cell_type": "code",
   "execution_count": null,
   "metadata": {},
   "outputs": [],
   "source": []
  },
  {
   "cell_type": "code",
   "execution_count": null,
   "metadata": {},
   "outputs": [],
   "source": []
  },
  {
   "cell_type": "code",
   "execution_count": null,
   "metadata": {},
   "outputs": [],
   "source": []
  },
  {
   "cell_type": "code",
   "execution_count": null,
   "metadata": {},
   "outputs": [],
   "source": []
  }
 ],
 "metadata": {
  "kernelspec": {
   "display_name": "base",
   "language": "python",
   "name": "python3"
  },
  "language_info": {
   "codemirror_mode": {
    "name": "ipython",
    "version": 3
   },
   "file_extension": ".py",
   "mimetype": "text/x-python",
   "name": "python",
   "nbconvert_exporter": "python",
   "pygments_lexer": "ipython3",
   "version": "3.10.16"
  }
 },
 "nbformat": 4,
 "nbformat_minor": 2
}
