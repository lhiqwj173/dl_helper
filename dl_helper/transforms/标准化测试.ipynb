{
 "cells": [
  {
   "cell_type": "code",
   "execution_count": 101,
   "metadata": {},
   "outputs": [],
   "source": [
    "import pandas as pd\n",
    "import torch"
   ]
  },
  {
   "cell_type": "code",
   "execution_count": 102,
   "metadata": {},
   "outputs": [
    {
     "name": "stdout",
     "output_type": "stream",
     "text": [
      "torch.Size([1, 4, 5])\n"
     ]
    },
    {
     "data": {
      "text/plain": [
       "tensor([[[4, 6, 7, 8, 9],\n",
       "         [4, 6, 7, 8, 9],\n",
       "         [4, 6, 7, 8, 9],\n",
       "         [4, 6, 7, 8, 9]]])"
      ]
     },
     "execution_count": 102,
     "metadata": {},
     "output_type": "execute_result"
    }
   ],
   "source": [
    "rand_cols = torch.randint(0, 1, (1, 5))\n",
    "for i in range(1):\n",
    "    r = torch.randperm(10)[:5].sort().values\n",
    "    rand_cols[i] = r\n",
    "rand_cols = rand_cols.unsqueeze(1).expand(-1, 4, -1)\n",
    "print(rand_cols.shape)\n",
    "rand_cols"
   ]
  },
  {
   "cell_type": "code",
   "execution_count": 103,
   "metadata": {},
   "outputs": [
    {
     "name": "stdout",
     "output_type": "stream",
     "text": [
      "torch.Size([1, 10, 4])\n"
     ]
    },
    {
     "data": {
      "text/plain": [
       "tensor([[[0., 2., 3., 4.],\n",
       "         [1., 2., 3., 4.],\n",
       "         [2., 2., 3., 4.],\n",
       "         [3., 2., 3., 4.],\n",
       "         [4., 2., 3., 4.],\n",
       "         [5., 2., 3., 4.],\n",
       "         [6., 2., 3., 4.],\n",
       "         [7., 2., 3., 4.],\n",
       "         [8., 2., 3., 4.],\n",
       "         [9., 2., 3., 4.]]])"
      ]
     },
     "execution_count": 103,
     "metadata": {},
     "output_type": "execute_result"
    }
   ],
   "source": [
    "# [1, 10, 4]\n",
    "x = torch.Tensor([\n",
    "    [[1, 2, 3, 4]] * 10\n",
    "])\n",
    "\n",
    "for i in range(10):\n",
    "    x[0,i,0] = i\n",
    "\n",
    "print(x.shape)\n",
    "x"
   ]
  },
  {
   "cell_type": "code",
   "execution_count": 104,
   "metadata": {},
   "outputs": [
    {
     "name": "stdout",
     "output_type": "stream",
     "text": [
      "torch.Size([1, 4, 2])\n"
     ]
    },
    {
     "data": {
      "text/plain": [
       "tensor([[[1., 2.],\n",
       "         [3., 4.],\n",
       "         [5., 6.],\n",
       "         [7., 8.]]])"
      ]
     },
     "execution_count": 104,
     "metadata": {},
     "output_type": "execute_result"
    }
   ],
   "source": [
    "# 标准化数据\n",
    "mean_std = [\n",
    "    [[1,2],\n",
    "    [3,4],\n",
    "    [5,6],\n",
    "    [7,8],]\n",
    "]\n",
    "mean_std = torch.tensor(mean_std, dtype=torch.float)\n",
    "print(mean_std.shape)\n",
    "mean_std"
   ]
  },
  {
   "cell_type": "code",
   "execution_count": 105,
   "metadata": {},
   "outputs": [
    {
     "name": "stdout",
     "output_type": "stream",
     "text": [
      "torch.Size([1, 4, 10])\n"
     ]
    },
    {
     "data": {
      "text/plain": [
       "tensor([[[0., 1., 2., 3., 4., 5., 6., 7., 8., 9.],\n",
       "         [2., 2., 2., 2., 2., 2., 2., 2., 2., 2.],\n",
       "         [3., 3., 3., 3., 3., 3., 3., 3., 3., 3.],\n",
       "         [4., 4., 4., 4., 4., 4., 4., 4., 4., 4.]]])"
      ]
     },
     "execution_count": 105,
     "metadata": {},
     "output_type": "execute_result"
    }
   ],
   "source": [
    "x = torch.transpose(x, 1, 2)\n",
    "print(x.shape)\n",
    "x"
   ]
  },
  {
   "cell_type": "code",
   "execution_count": 106,
   "metadata": {},
   "outputs": [
    {
     "name": "stdout",
     "output_type": "stream",
     "text": [
      "torch.Size([1, 4, 5])\n"
     ]
    },
    {
     "data": {
      "text/plain": [
       "tensor([[[4., 6., 7., 8., 9.],\n",
       "         [2., 2., 2., 2., 2.],\n",
       "         [3., 3., 3., 3., 3.],\n",
       "         [4., 4., 4., 4., 4.]]])"
      ]
     },
     "execution_count": 106,
     "metadata": {},
     "output_type": "execute_result"
    }
   ],
   "source": [
    "x = torch.gather(x, dim=2, index=rand_cols)\n",
    "print(x.shape)\n",
    "x"
   ]
  },
  {
   "cell_type": "code",
   "execution_count": 107,
   "metadata": {},
   "outputs": [
    {
     "data": {
      "text/plain": [
       "tensor([[[6.]]])"
      ]
     },
     "execution_count": 107,
     "metadata": {},
     "output_type": "execute_result"
    }
   ],
   "source": [
    "mp = ((x[:, 0, -1] + x[:, 2, -1]) / 2).unsqueeze(1).unsqueeze(1)\n",
    "mp"
   ]
  },
  {
   "cell_type": "code",
   "execution_count": 108,
   "metadata": {},
   "outputs": [
    {
     "data": {
      "text/plain": [
       "tensor([[[False, False, False, False, False],\n",
       "         [ True,  True,  True,  True,  True],\n",
       "         [False, False, False, False, False],\n",
       "         [ True,  True,  True,  True,  True]]])"
      ]
     },
     "execution_count": 108,
     "metadata": {},
     "output_type": "execute_result"
    }
   ],
   "source": [
    "vol_cond = torch.tensor([False, True] * 2).unsqueeze(0).unsqueeze(2).expand(1, -1, 5)\n",
    "vol_cond"
   ]
  },
  {
   "cell_type": "code",
   "execution_count": 109,
   "metadata": {},
   "outputs": [
    {
     "data": {
      "text/plain": [
       "tensor([[[0.6667, 1.0000, 1.1667, 1.3333, 1.5000],\n",
       "         [2.0000, 2.0000, 2.0000, 2.0000, 2.0000],\n",
       "         [0.5000, 0.5000, 0.5000, 0.5000, 0.5000],\n",
       "         [4.0000, 4.0000, 4.0000, 4.0000, 4.0000]]])"
      ]
     },
     "execution_count": 109,
     "metadata": {},
     "output_type": "execute_result"
    }
   ],
   "source": [
    "x = torch.where(~vol_cond, x / mp, x)\n",
    "x"
   ]
  },
  {
   "cell_type": "code",
   "execution_count": 110,
   "metadata": {},
   "outputs": [
    {
     "data": {
      "text/plain": [
       "tensor([[[-0.3333,  0.0000,  0.1667,  0.3333,  0.5000],\n",
       "         [-1.0000, -1.0000, -1.0000, -1.0000, -1.0000],\n",
       "         [-4.5000, -4.5000, -4.5000, -4.5000, -4.5000],\n",
       "         [-3.0000, -3.0000, -3.0000, -3.0000, -3.0000]]])"
      ]
     },
     "execution_count": 110,
     "metadata": {},
     "output_type": "execute_result"
    }
   ],
   "source": [
    "x -= mean_std[:, :, :1]\n",
    "x"
   ]
  },
  {
   "cell_type": "code",
   "execution_count": 111,
   "metadata": {},
   "outputs": [
    {
     "data": {
      "text/plain": [
       "tensor([[[-0.1667,  0.0000,  0.0833,  0.1667,  0.2500],\n",
       "         [-0.2500, -0.2500, -0.2500, -0.2500, -0.2500],\n",
       "         [-0.7500, -0.7500, -0.7500, -0.7500, -0.7500],\n",
       "         [-0.3750, -0.3750, -0.3750, -0.3750, -0.3750]]])"
      ]
     },
     "execution_count": 111,
     "metadata": {},
     "output_type": "execute_result"
    }
   ],
   "source": [
    "x /= mean_std[:, :, 1:]\n",
    "x"
   ]
  },
  {
   "cell_type": "code",
   "execution_count": null,
   "metadata": {},
   "outputs": [],
   "source": []
  },
  {
   "cell_type": "code",
   "execution_count": null,
   "metadata": {},
   "outputs": [],
   "source": []
  }
 ],
 "metadata": {
  "kernelspec": {
   "display_name": "base",
   "language": "python",
   "name": "python3"
  },
  "language_info": {
   "codemirror_mode": {
    "name": "ipython",
    "version": 3
   },
   "file_extension": ".py",
   "mimetype": "text/x-python",
   "name": "python",
   "nbconvert_exporter": "python",
   "pygments_lexer": "ipython3",
   "version": "3.11.3"
  },
  "orig_nbformat": 4
 },
 "nbformat": 4,
 "nbformat_minor": 2
}
