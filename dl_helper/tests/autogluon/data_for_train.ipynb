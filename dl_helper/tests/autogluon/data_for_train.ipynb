{
 "cells": [
  {
   "cell_type": "code",
   "execution_count": 9,
   "metadata": {},
   "outputs": [],
   "source": [
    "import os, pickle\n",
    "import pandas as pd\n",
    "import numpy as np\n",
    "from tqdm import tqdm"
   ]
  },
  {
   "cell_type": "code",
   "execution_count": 16,
   "metadata": {},
   "outputs": [
    {
     "data": {
      "text/plain": [
       "'D:\\\\L2_DATA_T0_ETF\\\\train_data\\\\autogluon_of_label_paper_513050_d3'"
      ]
     },
     "execution_count": 16,
     "metadata": {},
     "output_type": "execute_result"
    }
   ],
   "source": [
    "data_folder = r'D:\\L2_DATA_T0_ETF\\train_data\\lable_1_combine_data'\n",
    "code = [\n",
    "    '513050',\n",
    "    '513330',\n",
    "    '518880',\n",
    "    '159941',\n",
    "    '513180'\n",
    "][:1]\n",
    "label_name = 'paper'\n",
    "predict_n = 100\n",
    "\n",
    "down_freq = 3\n",
    "\n",
    "out_folder = rf'D:\\L2_DATA_T0_ETF\\train_data\\autogluon_of_label_paper_{code[0]}'\n",
    "if down_freq > 0:\n",
    "    out_folder = out_folder + f'_d{down_freq}'\n",
    "out_folder"
   ]
  },
  {
   "cell_type": "code",
   "execution_count": 11,
   "metadata": {},
   "outputs": [
    {
     "name": "stdout",
     "output_type": "stream",
     "text": [
      "使用标签paper, idx: 24\n"
     ]
    }
   ],
   "source": [
    "label_cls_idx = 0\n",
    "for _predict_n in [3, 5, 10, 15, 30, 60, 100]:\n",
    "    for label in ['paper', 'paper_pct', 'label_1', 'label_1_pct']:\n",
    "        if _predict_n == predict_n and label == label_name:\n",
    "            break\n",
    "        label_cls_idx+=1\n",
    "print(f'使用标签{label_name}, idx:', label_cls_idx)\n",
    "\n",
    "def yfunc(threshold, y):\n",
    "    if y > threshold:\n",
    "        return 0\n",
    "    elif y < -threshold:\n",
    "        return 1\n",
    "    else:\n",
    "        return 2\n",
    "\n",
    "# 定义一个函数来创建展开的数据\n",
    "def create_expanded_data(df, x, mean_std, need_expand_cols=None):\n",
    "    total_cols = list(df)\n",
    "    total_cols_idx = [i for i in range(len(total_cols))]\n",
    "    if None is  need_expand_cols:\n",
    "        need_expand_cols = total_cols\n",
    "        need_expand_cols_idx = total_cols_idx\n",
    "    else:\n",
    "        need_expand_cols_idx = [total_cols.index(i) for i in need_expand_cols]\n",
    "\n",
    "    keep_cols = [i for i in total_cols if i not in need_expand_cols]\n",
    "    keep_cols_idx = [total_cols.index(i) for i in keep_cols]\n",
    "\n",
    "    pass_n = x[0][1] - x[0][0]\n",
    "\n",
    "    expanded_data = []\n",
    "    for i in range(len(x)):\n",
    "        a, b = x[i]\n",
    "        _mean_std = pd.DataFrame(mean_std[i]).iloc[need_expand_cols_idx].reset_index(drop=True)\n",
    "        _data = df.iloc[a: b, need_expand_cols_idx]\n",
    "\n",
    "        # 标准化\n",
    "        _data -= _mean_std.iloc[:, 0].values\n",
    "        _data /= (_mean_std.iloc[:, 1] - _mean_std.iloc[:, 0]).values\n",
    "\n",
    "        window = np.concatenate((_data.values.flatten(), df.iloc[b-1, keep_cols].values))\n",
    "        # expanded_data.append(window)\n",
    "        window_float32 = window.astype(np.float32)\n",
    "        expanded_data.append(window_float32)\n",
    "    \n",
    "    # 创建新的 DataFrame\n",
    "    columns = [i for i in need_expand_cols]\n",
    "    for i in range(1, pass_n):\n",
    "        for col in need_expand_cols:\n",
    "            columns.append(f'{col}_{i}')\n",
    "    columns += keep_cols\n",
    "\n",
    "    # expanded_df = pd.DataFrame(expanded_data, columns=columns)\n",
    "    expanded_df = pd.DataFrame(expanded_data, columns=columns, dtype=np.float32)\n",
    "    return expanded_df\n",
    "\n",
    "def prepare_data(ids, mean_std, x, y, raw, codes, down_freq=0):\n",
    "    need_cols = ['OF买1量',\n",
    "        'OF卖1量',\n",
    "        'OF买2量',\n",
    "        'OF卖2量',\n",
    "        'OF买3量',\n",
    "        'OF卖3量',\n",
    "        'OF买4量',\n",
    "        'OF卖4量',\n",
    "        'OF买5量',\n",
    "        'OF卖5量',\n",
    "        'OF买6量',\n",
    "        'OF卖6量',\n",
    "        'OF买7量',\n",
    "        'OF卖7量',\n",
    "        'OF买8量',\n",
    "        'OF卖8量',\n",
    "        'OF买9量',\n",
    "        'OF卖9量',\n",
    "        'OF买10量',\n",
    "        'OF卖10量']\n",
    "    # 展平100行数据\n",
    "    pass_n = 100\n",
    "\n",
    "    # 筛选标的\n",
    "    if not isinstance(codes, list):\n",
    "        codes = [codes]\n",
    "    idxs = [i for i in range(len(x)) if ids[i].split('_')[0] in codes]\n",
    "    if len(idxs) == 0:\n",
    "        return None\n",
    "    if down_freq > 0:\n",
    "        idxs = [i for i in idxs if i % down_freq == 0] \n",
    "    ids = [ids[i] for i in idxs]\n",
    "    mean_std = [mean_std[i] for i in idxs]\n",
    "    x = [x[i] for i in idxs]\n",
    "    y = [y[i] for i in idxs]\n",
    "\n",
    "    # 矫正切片索引\n",
    "    x = [(max(i[0], i[1]-pass_n), i[1]) for i in x]\n",
    "\n",
    "    # 标签\n",
    "    y = [i[label_cls_idx] for i in y]\n",
    "    # y = [yfunc(0.5, i) for i in y]\n",
    "\n",
    "    raw = raw.loc[:, need_cols]\n",
    "    raw = create_expanded_data(raw, x, mean_std)\n",
    "\n",
    "    raw['label'] = pd.Series(y, dtype=np.float32)\n",
    "    raw['id'] = ids\n",
    "    # raw['label'] = pd.Series(y, dtype=np.int8)\n",
    "    return raw\n"
   ]
  },
  {
   "cell_type": "code",
   "execution_count": 12,
   "metadata": {},
   "outputs": [
    {
     "name": "stdout",
     "output_type": "stream",
     "text": [
      "195\n",
      "7\n"
     ]
    }
   ],
   "source": [
    "train_folder = os.path.join(data_folder, 'train')\n",
    "val_folder = os.path.join(data_folder, 'val')\n",
    "test_folder = os.path.join(data_folder, 'test')\n",
    "train_file_list = [os.path.join(train_folder, i) for i in os.listdir(train_folder)] + [os.path.join(val_folder, i) for i in os.listdir(val_folder)]\n",
    "print(len(train_file_list))\n",
    "test_file_list = [os.path.join(test_folder, i) for i in os.listdir(test_folder)]\n",
    "print(len(test_file_list))\n",
    "\n",
    "# train_file_list = train_file_list[:3]\n",
    "# test_file_list = test_file_list[:3]\n",
    "\n",
    "os.makedirs(out_folder, exist_ok=True)\n",
    "out_train_file = os.path.join(out_folder, 'train.pkl')\n",
    "out_test_file = os.path.join(out_folder, 'test.pkl')"
   ]
  },
  {
   "cell_type": "code",
   "execution_count": 13,
   "metadata": {},
   "outputs": [
    {
     "name": "stderr",
     "output_type": "stream",
     "text": [
      "100%|██████████| 195/195 [30:41<00:00,  9.45s/it]\n"
     ]
    },
    {
     "name": "stdout",
     "output_type": "stream",
     "text": [
      "训练数据集长度: 271869\n"
     ]
    }
   ],
   "source": [
    "train_data = pd.DataFrame()\n",
    "for file in tqdm(train_file_list):\n",
    "    # file = train_file_list[0]\n",
    "    data = prepare_data(*pickle.load(open(file, 'rb')), code, down_freq=down_freq)\n",
    "    if None is data:\n",
    "        continue\n",
    "    train_data = pd.concat([train_data, data])\n",
    "\n",
    "print('训练数据集长度:', len(train_data))\n",
    "# train_data.to_csv(out_train_file, index=False)\n",
    "pickle.dump(train_data, open(out_train_file, 'wb'))"
   ]
  },
  {
   "cell_type": "code",
   "execution_count": 14,
   "metadata": {},
   "outputs": [
    {
     "name": "stderr",
     "output_type": "stream",
     "text": [
      "100%|██████████| 7/7 [01:05<00:00,  9.38s/it]\n"
     ]
    },
    {
     "name": "stdout",
     "output_type": "stream",
     "text": [
      "测试数据集长度: 9976\n"
     ]
    }
   ],
   "source": [
    "test_data = pd.DataFrame()\n",
    "for file in tqdm(test_file_list):\n",
    "    data = prepare_data(*pickle.load(open(file, 'rb')), code, down_freq=down_freq)\n",
    "    if None is data:\n",
    "        continue\n",
    "    test_data = pd.concat([test_data, data])\n",
    "\n",
    "print('测试数据集长度:', len(test_data))\n",
    "# test_data.to_csv(out_test_file, index=False)\n",
    "pickle.dump(test_data, open(out_test_file, 'wb'))"
   ]
  },
  {
   "cell_type": "code",
   "execution_count": null,
   "metadata": {},
   "outputs": [],
   "source": []
  }
 ],
 "metadata": {
  "kernelspec": {
   "display_name": "base",
   "language": "python",
   "name": "python3"
  },
  "language_info": {
   "codemirror_mode": {
    "name": "ipython",
    "version": 3
   },
   "file_extension": ".py",
   "mimetype": "text/x-python",
   "name": "python",
   "nbconvert_exporter": "python",
   "pygments_lexer": "ipython3",
   "version": "3.11.3"
  },
  "orig_nbformat": 4
 },
 "nbformat": 4,
 "nbformat_minor": 2
}
