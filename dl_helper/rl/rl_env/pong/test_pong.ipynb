{
 "cells": [
  {
   "cell_type": "code",
   "execution_count": 2,
   "metadata": {},
   "outputs": [],
   "source": [
    "import gymnasium as gym\n",
    "import ale_py\n",
    "gym.register_envs(ale_py)\n",
    "import matplotlib.pyplot as plt\n",
    "import cv2\n",
    "from PIL import Image\n",
    "import numpy as np\n",
    "\n",
    "from dl_helper.rl.rl_env.pong.pong_env import PongEnv"
   ]
  },
  {
   "cell_type": "code",
   "execution_count": 34,
   "metadata": {},
   "outputs": [],
   "source": [
    "def show_and_save_img(obs):\n",
    "    plt.figure()\n",
    "    plt.imshow(obs[-1]* 255, cmap='gray')\n",
    "    plt.axis('off')\n",
    "    plt.show()\n",
    "    img_array = (obs[-1] * 255).astype(np.uint8)\n",
    "    img = Image.fromarray(img_array)\n",
    "    img.save(r'C:\\Users\\lh\\Desktop\\temp\\pong.png')\n",
    "\n",
    "import numpy as np\n",
    "class _PongEnv:\n",
    "    def _find_ball_position(self, frame):\n",
    "        \"\"\"\n",
    "        从单帧图像中找到球的中心位置。\n",
    "        找值 217\n",
    "        \"\"\"\n",
    "        # 查找值为 217 的所有位置\n",
    "        positions = np.where(frame > 150)\n",
    "        x_coords = positions[0]  # 行坐标\n",
    "        y_coords = positions[1]  # 列坐标\n",
    "\n",
    "        # 过滤 11 - 72 以外的\n",
    "        bad_idxs = []\n",
    "        for i, y in enumerate(y_coords):\n",
    "            if y < 11 or y > 72:\n",
    "                bad_idxs.append(i)\n",
    "        x_coords = np.delete(x_coords, bad_idxs)\n",
    "        y_coords = np.delete(y_coords, bad_idxs)\n",
    "        \n",
    "        if len(x_coords) == 0:\n",
    "            return None, None\n",
    "        elif len(x_coords) == 1:\n",
    "            # 只有一个位置，返回其坐标\n",
    "            return y_coords[0], x_coords[0], \n",
    "        else:\n",
    "            # 有多个位置，返回 x 和 y 的均值\n",
    "            mean_x = np.mean(x_coords)\n",
    "            mean_y = np.mean(y_coords)\n",
    "            return mean_y, mean_x\n",
    "\n",
    "    def _find_paddle_position(self, frame):\n",
    "        \"\"\"\n",
    "        获取挡板中心位置\n",
    "        在 74 列找值 147\n",
    "        \"\"\"\n",
    "        # 提取第 74 列\n",
    "        column_74 = frame[:, 74]\n",
    "        \n",
    "        # 找到值为 147 的位置\n",
    "        positions = np.where(column_74 == 147)[0]\n",
    "\n",
    "        length = len(positions)\n",
    "        assert length > 1\n",
    "\n",
    "        mid_index = length // 2  # 整数除法，得到中间索引\n",
    "\n",
    "        if length % 2 == 1:  # 奇数长度\n",
    "            return (74, positions[mid_index])\n",
    "        else:  # 偶数长度\n",
    "            return (74, (positions[mid_index - 1] + positions[mid_index]) / 2)\n",
    "            \n",
    "p = _PongEnv()"
   ]
  },
  {
   "cell_type": "code",
   "execution_count": 35,
   "metadata": {},
   "outputs": [
    {
     "data": {
      "image/png": "[encoded data removed]",
      "text/plain": [
       "<Figure size 640x480 with 1 Axes>"
      ]
     },
     "metadata": {},
     "output_type": "display_data"
    }
   ],
   "source": [
    "env = PongEnv()\n",
    "obs, info = env.reset()\n",
    "show_and_save_img(obs)"
   ]
  },
  {
   "cell_type": "code",
   "execution_count": 189,
   "metadata": {},
   "outputs": [
    {
     "data": {
      "image/png": "[encoded data removed]",
      "text/plain": [
       "<Figure size 640x480 with 1 Axes>"
      ]
     },
     "metadata": {},
     "output_type": "display_data"
    },
    {
     "data": {
      "text/plain": [
       "((21.5, 8.0), (74, 1))"
      ]
     },
     "execution_count": 189,
     "metadata": {},
     "output_type": "execute_result"
    }
   ],
   "source": [
    "# 0 不动\n",
    "# 2 上移\n",
    "# 3 下移\n",
    "act = 2\n",
    "obs, reward, terminated, truncated, info = env.step(act)\n",
    "show_and_save_img(obs)\n",
    "\n",
    "obs1 = env._get_stacked_obs()\n",
    "ball_pos = p._find_ball_position(obs1[-1])\n",
    "paddle_pos = p._find_paddle_position(obs1[-1])\n",
    "ball_pos, paddle_pos"
   ]
  },
  {
   "cell_type": "code",
   "execution_count": 191,
   "metadata": {},
   "outputs": [],
   "source": [
    "def default_reward_func(\n",
    "        frame_size, \n",
    "        ball_x_0, ball_y_0, \n",
    "        ball_x_1, ball_y_1, paddle_x_1, paddle_y_1, \n",
    "        reward\n",
    "    ):\n",
    "    \"\"\"\n",
    "    默认奖励函数\n",
    "    1. 计算球的落点 x,y（需要考虑上下边界反弹的情况）\n",
    "    2. 计算弱点与挡板之间的距离\n",
    "    3. 根据距离进行惩罚\n",
    "    \"\"\"\n",
    "    width, height = frame_size\n",
    "    \n",
    "    # 计算球的速度向量\n",
    "    velocity_x = ball_x_1 - ball_x_0\n",
    "    velocity_y = ball_y_1 - ball_y_0\n",
    "    \n",
    "    # 如果球没有水平移动，直接返回原始奖励\n",
    "    if velocity_x == 0:\n",
    "        return reward\n",
    "    \n",
    "    # 计算球到右边界的时间\n",
    "    time_to_right = (74 - ball_x_1) / velocity_x if velocity_x > 0 else float('inf')\n",
    "    \n",
    "    # 预测球到达右边界时的y坐标（考虑上下边界反弹）\n",
    "    if time_to_right != float('inf'):\n",
    "        # 计算球到达右边界时在y方向上的位移\n",
    "        y_displacement = velocity_y * time_to_right\n",
    "        \n",
    "        # 计算球在到达右边界前会反弹多少次\n",
    "        total_y_travel = ball_y_1 + y_displacement\n",
    "        bounces = 0\n",
    "        \n",
    "        # 处理多次反弹的情况\n",
    "        while total_y_travel < 0 or total_y_travel > height:\n",
    "            if total_y_travel < 0:\n",
    "                total_y_travel = -total_y_travel  # 下边界反弹\n",
    "                bounces += 1\n",
    "            if total_y_travel > height:\n",
    "                total_y_travel = 2 * height - total_y_travel  # 上边界反弹\n",
    "                bounces += 1\n",
    "        \n",
    "        # 最终预测的落点y坐标\n",
    "        predicted_y = total_y_travel\n",
    "        print(predicted_y)\n",
    "        \n",
    "        # 计算落点与挡板中心的距离\n",
    "        distance = abs(predicted_y - paddle_y_1)\n",
    "        \n",
    "        # 根据距离计算惩罚（距离越大，惩罚越大）\n",
    "        # 这里使用挡板高度的一半作为标准化因子\n",
    "        paddle_half_height = 10  # 假设挡板高度为20，可以根据实际情况调整\n",
    "        normalized_distance = min(distance / paddle_half_height, 1.0)\n",
    "        \n",
    "        # 距离惩罚系数，可以根据需要调整\n",
    "        distance_penalty = -normalized_distance * 10\n",
    "        \n",
    "        # 更新奖励\n",
    "        new_reward = reward + distance_penalty\n",
    "        \n",
    "        return new_reward\n",
    "    \n",
    "    # 如果球不会到达右边界（向左移动），返回原始奖励\n",
    "    return reward"
   ]
  },
  {
   "cell_type": "code",
   "execution_count": 192,
   "metadata": {},
   "outputs": [
    {
     "name": "stdout",
     "output_type": "stream",
     "text": [
      "76.83333333333334\n"
     ]
    },
    {
     "data": {
      "text/plain": [
       "-10.0"
      ]
     },
     "execution_count": 192,
     "metadata": {},
     "output_type": "execute_result"
    }
   ],
   "source": [
    "obs1 = env._get_stacked_obs()\n",
    "ball_pos_0 = p._find_ball_position(obs1[0])\n",
    "ball_pos = p._find_ball_position(obs1[-1])\n",
    "paddle_pos = p._find_paddle_position(obs1[-1])\n",
    "\n",
    "default_reward_func(\n",
    "    (84, 84), \n",
    "    ball_pos_0[0], ball_pos_0[1], \n",
    "    ball_pos[0], ball_pos[1], \n",
    "    paddle_pos[0], paddle_pos[1], \n",
    "    0\n",
    ")"
   ]
  }
 ],
 "metadata": {
  "kernelspec": {
   "display_name": "base",
   "language": "python",
   "name": "python3"
  },
  "language_info": {
   "codemirror_mode": {
    "name": "ipython",
    "version": 3
   },
   "file_extension": ".py",
   "mimetype": "text/x-python",
   "name": "python",
   "nbconvert_exporter": "python",
   "pygments_lexer": "ipython3",
   "version": "3.12.3"
  }
 },
 "nbformat": 4,
 "nbformat_minor": 2
}
